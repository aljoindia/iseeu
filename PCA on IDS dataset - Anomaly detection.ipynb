{
 "cells": [
  {
   "cell_type": "markdown",
   "id": "2847ab9e",
   "metadata": {},
   "source": [
    "# PCA on IDS dataset - Anomaly detection"
   ]
  },
  {
   "cell_type": "code",
   "execution_count": 170,
   "id": "4a235e3c",
   "metadata": {},
   "outputs": [],
   "source": [
    "import pandas as pd\n",
    "from sklearn.decomposition import PCA\n",
    "from sklearn.preprocessing import StandardScaler\n",
    "import seaborn as sns\n",
    "import numpy as np\n",
    "import matplotlib.pyplot as plt"
   ]
  },
  {
   "cell_type": "code",
   "execution_count": 171,
   "id": "8f0e08a6",
   "metadata": {},
   "outputs": [
    {
     "name": "stderr",
     "output_type": "stream",
     "text": [
      "C:\\Users\\Admin\\AppData\\Local\\Temp\\ipykernel_12808\\1319772336.py:2: DtypeWarning: Columns (0,1,3,6,84) have mixed types. Specify dtype option on import or set low_memory=False.\n",
      "  ids_dataset = pd.read_csv(\"IDS_merged_dataset.csv\")\n"
     ]
    },
    {
     "data": {
      "text/html": [
       "<div>\n",
       "<style scoped>\n",
       "    .dataframe tbody tr th:only-of-type {\n",
       "        vertical-align: middle;\n",
       "    }\n",
       "\n",
       "    .dataframe tbody tr th {\n",
       "        vertical-align: top;\n",
       "    }\n",
       "\n",
       "    .dataframe thead th {\n",
       "        text-align: right;\n",
       "    }\n",
       "</style>\n",
       "<table border=\"1\" class=\"dataframe\">\n",
       "  <thead>\n",
       "    <tr style=\"text-align: right;\">\n",
       "      <th></th>\n",
       "      <th>Flow ID</th>\n",
       "      <th>Source IP</th>\n",
       "      <th>Source Port</th>\n",
       "      <th>Destination IP</th>\n",
       "      <th>Destination Port</th>\n",
       "      <th>Protocol</th>\n",
       "      <th>Timestamp</th>\n",
       "      <th>Flow Duration</th>\n",
       "      <th>Total Fwd Packets</th>\n",
       "      <th>Total Backward Packets</th>\n",
       "      <th>...</th>\n",
       "      <th>min_seg_size_forward</th>\n",
       "      <th>Active Mean</th>\n",
       "      <th>Active Std</th>\n",
       "      <th>Active Max</th>\n",
       "      <th>Active Min</th>\n",
       "      <th>Idle Mean</th>\n",
       "      <th>Idle Std</th>\n",
       "      <th>Idle Max</th>\n",
       "      <th>Idle Min</th>\n",
       "      <th>Label</th>\n",
       "    </tr>\n",
       "  </thead>\n",
       "  <tbody>\n",
       "    <tr>\n",
       "      <th>0</th>\n",
       "      <td>192.168.10.5-8.254.250.126-49188-80-6</td>\n",
       "      <td>8.254.250.126</td>\n",
       "      <td>80.0</td>\n",
       "      <td>192.168.10.5</td>\n",
       "      <td>49188.0</td>\n",
       "      <td>6.0</td>\n",
       "      <td>03/07/2017 08:55:58</td>\n",
       "      <td>4.0</td>\n",
       "      <td>2.0</td>\n",
       "      <td>0.0</td>\n",
       "      <td>...</td>\n",
       "      <td>20.0</td>\n",
       "      <td>0.0</td>\n",
       "      <td>0.0</td>\n",
       "      <td>0.0</td>\n",
       "      <td>0.0</td>\n",
       "      <td>0.0</td>\n",
       "      <td>0.0</td>\n",
       "      <td>0.0</td>\n",
       "      <td>0.0</td>\n",
       "      <td>BENIGN</td>\n",
       "    </tr>\n",
       "    <tr>\n",
       "      <th>1</th>\n",
       "      <td>192.168.10.5-8.254.250.126-49188-80-6</td>\n",
       "      <td>8.254.250.126</td>\n",
       "      <td>80.0</td>\n",
       "      <td>192.168.10.5</td>\n",
       "      <td>49188.0</td>\n",
       "      <td>6.0</td>\n",
       "      <td>03/07/2017 08:55:58</td>\n",
       "      <td>1.0</td>\n",
       "      <td>2.0</td>\n",
       "      <td>0.0</td>\n",
       "      <td>...</td>\n",
       "      <td>20.0</td>\n",
       "      <td>0.0</td>\n",
       "      <td>0.0</td>\n",
       "      <td>0.0</td>\n",
       "      <td>0.0</td>\n",
       "      <td>0.0</td>\n",
       "      <td>0.0</td>\n",
       "      <td>0.0</td>\n",
       "      <td>0.0</td>\n",
       "      <td>BENIGN</td>\n",
       "    </tr>\n",
       "    <tr>\n",
       "      <th>2</th>\n",
       "      <td>192.168.10.5-8.254.250.126-49188-80-6</td>\n",
       "      <td>8.254.250.126</td>\n",
       "      <td>80.0</td>\n",
       "      <td>192.168.10.5</td>\n",
       "      <td>49188.0</td>\n",
       "      <td>6.0</td>\n",
       "      <td>03/07/2017 08:55:58</td>\n",
       "      <td>1.0</td>\n",
       "      <td>2.0</td>\n",
       "      <td>0.0</td>\n",
       "      <td>...</td>\n",
       "      <td>20.0</td>\n",
       "      <td>0.0</td>\n",
       "      <td>0.0</td>\n",
       "      <td>0.0</td>\n",
       "      <td>0.0</td>\n",
       "      <td>0.0</td>\n",
       "      <td>0.0</td>\n",
       "      <td>0.0</td>\n",
       "      <td>0.0</td>\n",
       "      <td>BENIGN</td>\n",
       "    </tr>\n",
       "    <tr>\n",
       "      <th>3</th>\n",
       "      <td>192.168.10.5-8.254.250.126-49188-80-6</td>\n",
       "      <td>8.254.250.126</td>\n",
       "      <td>80.0</td>\n",
       "      <td>192.168.10.5</td>\n",
       "      <td>49188.0</td>\n",
       "      <td>6.0</td>\n",
       "      <td>03/07/2017 08:55:58</td>\n",
       "      <td>1.0</td>\n",
       "      <td>2.0</td>\n",
       "      <td>0.0</td>\n",
       "      <td>...</td>\n",
       "      <td>20.0</td>\n",
       "      <td>0.0</td>\n",
       "      <td>0.0</td>\n",
       "      <td>0.0</td>\n",
       "      <td>0.0</td>\n",
       "      <td>0.0</td>\n",
       "      <td>0.0</td>\n",
       "      <td>0.0</td>\n",
       "      <td>0.0</td>\n",
       "      <td>BENIGN</td>\n",
       "    </tr>\n",
       "    <tr>\n",
       "      <th>4</th>\n",
       "      <td>192.168.10.14-8.253.185.121-49486-80-6</td>\n",
       "      <td>8.253.185.121</td>\n",
       "      <td>80.0</td>\n",
       "      <td>192.168.10.14</td>\n",
       "      <td>49486.0</td>\n",
       "      <td>6.0</td>\n",
       "      <td>03/07/2017 08:56:22</td>\n",
       "      <td>3.0</td>\n",
       "      <td>2.0</td>\n",
       "      <td>0.0</td>\n",
       "      <td>...</td>\n",
       "      <td>20.0</td>\n",
       "      <td>0.0</td>\n",
       "      <td>0.0</td>\n",
       "      <td>0.0</td>\n",
       "      <td>0.0</td>\n",
       "      <td>0.0</td>\n",
       "      <td>0.0</td>\n",
       "      <td>0.0</td>\n",
       "      <td>0.0</td>\n",
       "      <td>BENIGN</td>\n",
       "    </tr>\n",
       "  </tbody>\n",
       "</table>\n",
       "<p>5 rows × 85 columns</p>\n",
       "</div>"
      ],
      "text/plain": [
       "                                  Flow ID      Source IP   Source Port  \\\n",
       "0   192.168.10.5-8.254.250.126-49188-80-6  8.254.250.126          80.0   \n",
       "1   192.168.10.5-8.254.250.126-49188-80-6  8.254.250.126          80.0   \n",
       "2   192.168.10.5-8.254.250.126-49188-80-6  8.254.250.126          80.0   \n",
       "3   192.168.10.5-8.254.250.126-49188-80-6  8.254.250.126          80.0   \n",
       "4  192.168.10.14-8.253.185.121-49486-80-6  8.253.185.121          80.0   \n",
       "\n",
       "   Destination IP   Destination Port   Protocol            Timestamp  \\\n",
       "0    192.168.10.5            49188.0        6.0  03/07/2017 08:55:58   \n",
       "1    192.168.10.5            49188.0        6.0  03/07/2017 08:55:58   \n",
       "2    192.168.10.5            49188.0        6.0  03/07/2017 08:55:58   \n",
       "3    192.168.10.5            49188.0        6.0  03/07/2017 08:55:58   \n",
       "4   192.168.10.14            49486.0        6.0  03/07/2017 08:56:22   \n",
       "\n",
       "    Flow Duration   Total Fwd Packets   Total Backward Packets  ...  \\\n",
       "0             4.0                 2.0                      0.0  ...   \n",
       "1             1.0                 2.0                      0.0  ...   \n",
       "2             1.0                 2.0                      0.0  ...   \n",
       "3             1.0                 2.0                      0.0  ...   \n",
       "4             3.0                 2.0                      0.0  ...   \n",
       "\n",
       "    min_seg_size_forward  Active Mean   Active Std   Active Max   Active Min  \\\n",
       "0                   20.0          0.0          0.0          0.0          0.0   \n",
       "1                   20.0          0.0          0.0          0.0          0.0   \n",
       "2                   20.0          0.0          0.0          0.0          0.0   \n",
       "3                   20.0          0.0          0.0          0.0          0.0   \n",
       "4                   20.0          0.0          0.0          0.0          0.0   \n",
       "\n",
       "   Idle Mean   Idle Std   Idle Max   Idle Min   Label  \n",
       "0        0.0        0.0        0.0        0.0  BENIGN  \n",
       "1        0.0        0.0        0.0        0.0  BENIGN  \n",
       "2        0.0        0.0        0.0        0.0  BENIGN  \n",
       "3        0.0        0.0        0.0        0.0  BENIGN  \n",
       "4        0.0        0.0        0.0        0.0  BENIGN  \n",
       "\n",
       "[5 rows x 85 columns]"
      ]
     },
     "execution_count": 171,
     "metadata": {},
     "output_type": "execute_result"
    }
   ],
   "source": [
    "# importing dataset\n",
    "ids_dataset = pd.read_csv(\"IDS_merged_dataset.csv\")\n",
    "ids_dataset.head()"
   ]
  },
  {
   "cell_type": "code",
   "execution_count": 172,
   "id": "bf2008e8",
   "metadata": {},
   "outputs": [
    {
     "data": {
      "text/plain": [
       "array(['BENIGN', 'FTP-Patator', 'SSH-Patator', 'DoS slowloris',\n",
       "       'DoS Slowhttptest', 'DoS Hulk', 'DoS GoldenEye', 'Heartbleed',\n",
       "       'Infiltration', 'Web Attack – Brute Force', 'Web Attack – XSS',\n",
       "       'Web Attack – Sql Injection', nan, 'Bot', 'DDoS', 'PortScan'],\n",
       "      dtype=object)"
      ]
     },
     "execution_count": 172,
     "metadata": {},
     "output_type": "execute_result"
    }
   ],
   "source": [
    "# Classes\n",
    "ids_dataset[' Label'].unique()"
   ]
  },
  {
   "cell_type": "code",
   "execution_count": 173,
   "id": "2af211eb",
   "metadata": {},
   "outputs": [],
   "source": [
    "# filtering dataset;- selecting only BEGNIN records\n",
    "# ids_dataset = ids_dataset[ids_dataset[' Label'] == 'BENIGN']\n",
    "# ids_dataset.head()"
   ]
  },
  {
   "cell_type": "code",
   "execution_count": 174,
   "id": "e14936a5",
   "metadata": {},
   "outputs": [
    {
     "data": {
      "text/plain": [
       "(3119345, 85)"
      ]
     },
     "execution_count": 174,
     "metadata": {},
     "output_type": "execute_result"
    }
   ],
   "source": [
    "ids_dataset.shape"
   ]
  },
  {
   "cell_type": "code",
   "execution_count": 175,
   "id": "9e9dea1a",
   "metadata": {},
   "outputs": [
    {
     "name": "stdout",
     "output_type": "stream",
     "text": [
      "<class 'pandas.core.frame.DataFrame'>\n",
      "RangeIndex: 3119345 entries, 0 to 3119344\n",
      "Data columns (total 85 columns):\n",
      " #   Column                        Dtype  \n",
      "---  ------                        -----  \n",
      " 0   Flow ID                       object \n",
      " 1    Source IP                    object \n",
      " 2    Source Port                  float64\n",
      " 3    Destination IP               object \n",
      " 4    Destination Port             float64\n",
      " 5    Protocol                     float64\n",
      " 6    Timestamp                    object \n",
      " 7    Flow Duration                float64\n",
      " 8    Total Fwd Packets            float64\n",
      " 9    Total Backward Packets       float64\n",
      " 10  Total Length of Fwd Packets   float64\n",
      " 11   Total Length of Bwd Packets  float64\n",
      " 12   Fwd Packet Length Max        float64\n",
      " 13   Fwd Packet Length Min        float64\n",
      " 14   Fwd Packet Length Mean       float64\n",
      " 15   Fwd Packet Length Std        float64\n",
      " 16  Bwd Packet Length Max         float64\n",
      " 17   Bwd Packet Length Min        float64\n",
      " 18   Bwd Packet Length Mean       float64\n",
      " 19   Bwd Packet Length Std        float64\n",
      " 20  Flow Bytes/s                  float64\n",
      " 21   Flow Packets/s               float64\n",
      " 22   Flow IAT Mean                float64\n",
      " 23   Flow IAT Std                 float64\n",
      " 24   Flow IAT Max                 float64\n",
      " 25   Flow IAT Min                 float64\n",
      " 26  Fwd IAT Total                 float64\n",
      " 27   Fwd IAT Mean                 float64\n",
      " 28   Fwd IAT Std                  float64\n",
      " 29   Fwd IAT Max                  float64\n",
      " 30   Fwd IAT Min                  float64\n",
      " 31  Bwd IAT Total                 float64\n",
      " 32   Bwd IAT Mean                 float64\n",
      " 33   Bwd IAT Std                  float64\n",
      " 34   Bwd IAT Max                  float64\n",
      " 35   Bwd IAT Min                  float64\n",
      " 36  Fwd PSH Flags                 float64\n",
      " 37   Bwd PSH Flags                float64\n",
      " 38   Fwd URG Flags                float64\n",
      " 39   Bwd URG Flags                float64\n",
      " 40   Fwd Header Length            float64\n",
      " 41   Bwd Header Length            float64\n",
      " 42  Fwd Packets/s                 float64\n",
      " 43   Bwd Packets/s                float64\n",
      " 44   Min Packet Length            float64\n",
      " 45   Max Packet Length            float64\n",
      " 46   Packet Length Mean           float64\n",
      " 47   Packet Length Std            float64\n",
      " 48   Packet Length Variance       float64\n",
      " 49  FIN Flag Count                float64\n",
      " 50   SYN Flag Count               float64\n",
      " 51   RST Flag Count               float64\n",
      " 52   PSH Flag Count               float64\n",
      " 53   ACK Flag Count               float64\n",
      " 54   URG Flag Count               float64\n",
      " 55   CWE Flag Count               float64\n",
      " 56   ECE Flag Count               float64\n",
      " 57   Down/Up Ratio                float64\n",
      " 58   Average Packet Size          float64\n",
      " 59   Avg Fwd Segment Size         float64\n",
      " 60   Avg Bwd Segment Size         float64\n",
      " 61   Fwd Header Length.1          float64\n",
      " 62  Fwd Avg Bytes/Bulk            float64\n",
      " 63   Fwd Avg Packets/Bulk         float64\n",
      " 64   Fwd Avg Bulk Rate            float64\n",
      " 65   Bwd Avg Bytes/Bulk           float64\n",
      " 66   Bwd Avg Packets/Bulk         float64\n",
      " 67  Bwd Avg Bulk Rate             float64\n",
      " 68  Subflow Fwd Packets           float64\n",
      " 69   Subflow Fwd Bytes            float64\n",
      " 70   Subflow Bwd Packets          float64\n",
      " 71   Subflow Bwd Bytes            float64\n",
      " 72  Init_Win_bytes_forward        float64\n",
      " 73   Init_Win_bytes_backward      float64\n",
      " 74   act_data_pkt_fwd             float64\n",
      " 75   min_seg_size_forward         float64\n",
      " 76  Active Mean                   float64\n",
      " 77   Active Std                   float64\n",
      " 78   Active Max                   float64\n",
      " 79   Active Min                   float64\n",
      " 80  Idle Mean                     float64\n",
      " 81   Idle Std                     float64\n",
      " 82   Idle Max                     float64\n",
      " 83   Idle Min                     float64\n",
      " 84   Label                        object \n",
      "dtypes: float64(80), object(5)\n",
      "memory usage: 2.0+ GB\n"
     ]
    }
   ],
   "source": [
    "# dataset information\n",
    "ids_dataset.info()"
   ]
  },
  {
   "cell_type": "code",
   "execution_count": 176,
   "id": "a9a2a1a2",
   "metadata": {},
   "outputs": [
    {
     "data": {
      "text/plain": [
       "Index(['Flow ID', ' Source IP', ' Source Port', ' Destination IP',\n",
       "       ' Destination Port', ' Protocol', ' Timestamp', ' Flow Duration',\n",
       "       ' Total Fwd Packets', ' Total Backward Packets',\n",
       "       'Total Length of Fwd Packets', ' Total Length of Bwd Packets',\n",
       "       ' Fwd Packet Length Max', ' Fwd Packet Length Min',\n",
       "       ' Fwd Packet Length Mean', ' Fwd Packet Length Std',\n",
       "       'Bwd Packet Length Max', ' Bwd Packet Length Min',\n",
       "       ' Bwd Packet Length Mean', ' Bwd Packet Length Std', 'Flow Bytes/s',\n",
       "       ' Flow Packets/s', ' Flow IAT Mean', ' Flow IAT Std', ' Flow IAT Max',\n",
       "       ' Flow IAT Min', 'Fwd IAT Total', ' Fwd IAT Mean', ' Fwd IAT Std',\n",
       "       ' Fwd IAT Max', ' Fwd IAT Min', 'Bwd IAT Total', ' Bwd IAT Mean',\n",
       "       ' Bwd IAT Std', ' Bwd IAT Max', ' Bwd IAT Min', 'Fwd PSH Flags',\n",
       "       ' Bwd PSH Flags', ' Fwd URG Flags', ' Bwd URG Flags',\n",
       "       ' Fwd Header Length', ' Bwd Header Length', 'Fwd Packets/s',\n",
       "       ' Bwd Packets/s', ' Min Packet Length', ' Max Packet Length',\n",
       "       ' Packet Length Mean', ' Packet Length Std', ' Packet Length Variance',\n",
       "       'FIN Flag Count', ' SYN Flag Count', ' RST Flag Count',\n",
       "       ' PSH Flag Count', ' ACK Flag Count', ' URG Flag Count',\n",
       "       ' CWE Flag Count', ' ECE Flag Count', ' Down/Up Ratio',\n",
       "       ' Average Packet Size', ' Avg Fwd Segment Size',\n",
       "       ' Avg Bwd Segment Size', ' Fwd Header Length.1', 'Fwd Avg Bytes/Bulk',\n",
       "       ' Fwd Avg Packets/Bulk', ' Fwd Avg Bulk Rate', ' Bwd Avg Bytes/Bulk',\n",
       "       ' Bwd Avg Packets/Bulk', 'Bwd Avg Bulk Rate', 'Subflow Fwd Packets',\n",
       "       ' Subflow Fwd Bytes', ' Subflow Bwd Packets', ' Subflow Bwd Bytes',\n",
       "       'Init_Win_bytes_forward', ' Init_Win_bytes_backward',\n",
       "       ' act_data_pkt_fwd', ' min_seg_size_forward', 'Active Mean',\n",
       "       ' Active Std', ' Active Max', ' Active Min', 'Idle Mean', ' Idle Std',\n",
       "       ' Idle Max', ' Idle Min', ' Label'],\n",
       "      dtype='object')"
      ]
     },
     "execution_count": 176,
     "metadata": {},
     "output_type": "execute_result"
    }
   ],
   "source": [
    "# Dataset columns\n",
    "ids_dataset.columns"
   ]
  },
  {
   "cell_type": "code",
   "execution_count": 177,
   "id": "0eaa8f79",
   "metadata": {},
   "outputs": [],
   "source": [
    "defective = ids_dataset[ids_dataset[' Label'] == 'DDoS'].head(1)"
   ]
  },
  {
   "cell_type": "code",
   "execution_count": 178,
   "id": "25090dd7",
   "metadata": {},
   "outputs": [
    {
     "data": {
      "text/html": [
       "<div>\n",
       "<style scoped>\n",
       "    .dataframe tbody tr th:only-of-type {\n",
       "        vertical-align: middle;\n",
       "    }\n",
       "\n",
       "    .dataframe tbody tr th {\n",
       "        vertical-align: top;\n",
       "    }\n",
       "\n",
       "    .dataframe thead th {\n",
       "        text-align: right;\n",
       "    }\n",
       "</style>\n",
       "<table border=\"1\" class=\"dataframe\">\n",
       "  <thead>\n",
       "    <tr style=\"text-align: right;\">\n",
       "      <th></th>\n",
       "      <th>Timestamp</th>\n",
       "      <th>Flow Duration</th>\n",
       "      <th>Total Fwd Packets</th>\n",
       "      <th>Total Backward Packets</th>\n",
       "      <th>Total Length of Fwd Packets</th>\n",
       "      <th>Total Length of Bwd Packets</th>\n",
       "      <th>Fwd Packet Length Max</th>\n",
       "      <th>Fwd Packet Length Min</th>\n",
       "      <th>Fwd Packet Length Mean</th>\n",
       "      <th>Fwd Packet Length Std</th>\n",
       "      <th>...</th>\n",
       "      <th>min_seg_size_forward</th>\n",
       "      <th>Active Mean</th>\n",
       "      <th>Active Std</th>\n",
       "      <th>Active Max</th>\n",
       "      <th>Active Min</th>\n",
       "      <th>Idle Mean</th>\n",
       "      <th>Idle Std</th>\n",
       "      <th>Idle Max</th>\n",
       "      <th>Idle Min</th>\n",
       "      <th>Label</th>\n",
       "    </tr>\n",
       "  </thead>\n",
       "  <tbody>\n",
       "    <tr>\n",
       "      <th>0</th>\n",
       "      <td>03/07/2017 08:55:58</td>\n",
       "      <td>4.0</td>\n",
       "      <td>2.0</td>\n",
       "      <td>0.0</td>\n",
       "      <td>12.0</td>\n",
       "      <td>0.0</td>\n",
       "      <td>6.0</td>\n",
       "      <td>6.0</td>\n",
       "      <td>6.0</td>\n",
       "      <td>0.0</td>\n",
       "      <td>...</td>\n",
       "      <td>20.0</td>\n",
       "      <td>0.0</td>\n",
       "      <td>0.0</td>\n",
       "      <td>0.0</td>\n",
       "      <td>0.0</td>\n",
       "      <td>0.0</td>\n",
       "      <td>0.0</td>\n",
       "      <td>0.0</td>\n",
       "      <td>0.0</td>\n",
       "      <td>BENIGN</td>\n",
       "    </tr>\n",
       "    <tr>\n",
       "      <th>1</th>\n",
       "      <td>03/07/2017 08:55:58</td>\n",
       "      <td>1.0</td>\n",
       "      <td>2.0</td>\n",
       "      <td>0.0</td>\n",
       "      <td>12.0</td>\n",
       "      <td>0.0</td>\n",
       "      <td>6.0</td>\n",
       "      <td>6.0</td>\n",
       "      <td>6.0</td>\n",
       "      <td>0.0</td>\n",
       "      <td>...</td>\n",
       "      <td>20.0</td>\n",
       "      <td>0.0</td>\n",
       "      <td>0.0</td>\n",
       "      <td>0.0</td>\n",
       "      <td>0.0</td>\n",
       "      <td>0.0</td>\n",
       "      <td>0.0</td>\n",
       "      <td>0.0</td>\n",
       "      <td>0.0</td>\n",
       "      <td>BENIGN</td>\n",
       "    </tr>\n",
       "    <tr>\n",
       "      <th>2</th>\n",
       "      <td>03/07/2017 08:55:58</td>\n",
       "      <td>1.0</td>\n",
       "      <td>2.0</td>\n",
       "      <td>0.0</td>\n",
       "      <td>12.0</td>\n",
       "      <td>0.0</td>\n",
       "      <td>6.0</td>\n",
       "      <td>6.0</td>\n",
       "      <td>6.0</td>\n",
       "      <td>0.0</td>\n",
       "      <td>...</td>\n",
       "      <td>20.0</td>\n",
       "      <td>0.0</td>\n",
       "      <td>0.0</td>\n",
       "      <td>0.0</td>\n",
       "      <td>0.0</td>\n",
       "      <td>0.0</td>\n",
       "      <td>0.0</td>\n",
       "      <td>0.0</td>\n",
       "      <td>0.0</td>\n",
       "      <td>BENIGN</td>\n",
       "    </tr>\n",
       "    <tr>\n",
       "      <th>3</th>\n",
       "      <td>03/07/2017 08:55:58</td>\n",
       "      <td>1.0</td>\n",
       "      <td>2.0</td>\n",
       "      <td>0.0</td>\n",
       "      <td>12.0</td>\n",
       "      <td>0.0</td>\n",
       "      <td>6.0</td>\n",
       "      <td>6.0</td>\n",
       "      <td>6.0</td>\n",
       "      <td>0.0</td>\n",
       "      <td>...</td>\n",
       "      <td>20.0</td>\n",
       "      <td>0.0</td>\n",
       "      <td>0.0</td>\n",
       "      <td>0.0</td>\n",
       "      <td>0.0</td>\n",
       "      <td>0.0</td>\n",
       "      <td>0.0</td>\n",
       "      <td>0.0</td>\n",
       "      <td>0.0</td>\n",
       "      <td>BENIGN</td>\n",
       "    </tr>\n",
       "    <tr>\n",
       "      <th>4</th>\n",
       "      <td>03/07/2017 08:56:22</td>\n",
       "      <td>3.0</td>\n",
       "      <td>2.0</td>\n",
       "      <td>0.0</td>\n",
       "      <td>12.0</td>\n",
       "      <td>0.0</td>\n",
       "      <td>6.0</td>\n",
       "      <td>6.0</td>\n",
       "      <td>6.0</td>\n",
       "      <td>0.0</td>\n",
       "      <td>...</td>\n",
       "      <td>20.0</td>\n",
       "      <td>0.0</td>\n",
       "      <td>0.0</td>\n",
       "      <td>0.0</td>\n",
       "      <td>0.0</td>\n",
       "      <td>0.0</td>\n",
       "      <td>0.0</td>\n",
       "      <td>0.0</td>\n",
       "      <td>0.0</td>\n",
       "      <td>BENIGN</td>\n",
       "    </tr>\n",
       "  </tbody>\n",
       "</table>\n",
       "<p>5 rows × 79 columns</p>\n",
       "</div>"
      ],
      "text/plain": [
       "             Timestamp   Flow Duration   Total Fwd Packets  \\\n",
       "0  03/07/2017 08:55:58             4.0                 2.0   \n",
       "1  03/07/2017 08:55:58             1.0                 2.0   \n",
       "2  03/07/2017 08:55:58             1.0                 2.0   \n",
       "3  03/07/2017 08:55:58             1.0                 2.0   \n",
       "4  03/07/2017 08:56:22             3.0                 2.0   \n",
       "\n",
       "    Total Backward Packets  Total Length of Fwd Packets  \\\n",
       "0                      0.0                         12.0   \n",
       "1                      0.0                         12.0   \n",
       "2                      0.0                         12.0   \n",
       "3                      0.0                         12.0   \n",
       "4                      0.0                         12.0   \n",
       "\n",
       "    Total Length of Bwd Packets   Fwd Packet Length Max  \\\n",
       "0                           0.0                     6.0   \n",
       "1                           0.0                     6.0   \n",
       "2                           0.0                     6.0   \n",
       "3                           0.0                     6.0   \n",
       "4                           0.0                     6.0   \n",
       "\n",
       "    Fwd Packet Length Min   Fwd Packet Length Mean   Fwd Packet Length Std  \\\n",
       "0                     6.0                      6.0                     0.0   \n",
       "1                     6.0                      6.0                     0.0   \n",
       "2                     6.0                      6.0                     0.0   \n",
       "3                     6.0                      6.0                     0.0   \n",
       "4                     6.0                      6.0                     0.0   \n",
       "\n",
       "   ...   min_seg_size_forward  Active Mean   Active Std   Active Max  \\\n",
       "0  ...                   20.0          0.0          0.0          0.0   \n",
       "1  ...                   20.0          0.0          0.0          0.0   \n",
       "2  ...                   20.0          0.0          0.0          0.0   \n",
       "3  ...                   20.0          0.0          0.0          0.0   \n",
       "4  ...                   20.0          0.0          0.0          0.0   \n",
       "\n",
       "    Active Min  Idle Mean   Idle Std   Idle Max   Idle Min   Label  \n",
       "0          0.0        0.0        0.0        0.0        0.0  BENIGN  \n",
       "1          0.0        0.0        0.0        0.0        0.0  BENIGN  \n",
       "2          0.0        0.0        0.0        0.0        0.0  BENIGN  \n",
       "3          0.0        0.0        0.0        0.0        0.0  BENIGN  \n",
       "4          0.0        0.0        0.0        0.0        0.0  BENIGN  \n",
       "\n",
       "[5 rows x 79 columns]"
      ]
     },
     "execution_count": 178,
     "metadata": {},
     "output_type": "execute_result"
    }
   ],
   "source": [
    "# dropping unwanted columns\n",
    "columns_to_be_dropped = [\n",
    "    'Flow ID', \n",
    "    ' Source IP', \n",
    "    ' Source Port',\n",
    "    ' Destination IP', \n",
    "    ' Destination Port', \n",
    "    ' Protocol'\n",
    "]\n",
    "\n",
    "pre_pca_ids_dataset = ids_dataset.drop(columns_to_be_dropped, axis=1)\n",
    "pre_pca_ids_dataset.head()"
   ]
  },
  {
   "cell_type": "code",
   "execution_count": 179,
   "id": "4b1f80df",
   "metadata": {},
   "outputs": [
    {
     "data": {
      "text/html": [
       "<div>\n",
       "<style scoped>\n",
       "    .dataframe tbody tr th:only-of-type {\n",
       "        vertical-align: middle;\n",
       "    }\n",
       "\n",
       "    .dataframe tbody tr th {\n",
       "        vertical-align: top;\n",
       "    }\n",
       "\n",
       "    .dataframe thead th {\n",
       "        text-align: right;\n",
       "    }\n",
       "</style>\n",
       "<table border=\"1\" class=\"dataframe\">\n",
       "  <thead>\n",
       "    <tr style=\"text-align: right;\">\n",
       "      <th></th>\n",
       "      <th>Flow Duration</th>\n",
       "      <th>Total Fwd Packets</th>\n",
       "      <th>Total Backward Packets</th>\n",
       "      <th>Total Length of Fwd Packets</th>\n",
       "      <th>Total Length of Bwd Packets</th>\n",
       "      <th>Fwd Packet Length Max</th>\n",
       "      <th>Fwd Packet Length Min</th>\n",
       "      <th>Fwd Packet Length Mean</th>\n",
       "      <th>Fwd Packet Length Std</th>\n",
       "      <th>Bwd Packet Length Max</th>\n",
       "      <th>...</th>\n",
       "      <th>act_data_pkt_fwd</th>\n",
       "      <th>min_seg_size_forward</th>\n",
       "      <th>Active Mean</th>\n",
       "      <th>Active Std</th>\n",
       "      <th>Active Max</th>\n",
       "      <th>Active Min</th>\n",
       "      <th>Idle Mean</th>\n",
       "      <th>Idle Std</th>\n",
       "      <th>Idle Max</th>\n",
       "      <th>Idle Min</th>\n",
       "    </tr>\n",
       "  </thead>\n",
       "  <tbody>\n",
       "    <tr>\n",
       "      <th>count</th>\n",
       "      <td>2.830743e+06</td>\n",
       "      <td>2.830743e+06</td>\n",
       "      <td>2.830743e+06</td>\n",
       "      <td>2.830743e+06</td>\n",
       "      <td>2.830743e+06</td>\n",
       "      <td>2.830743e+06</td>\n",
       "      <td>2.830743e+06</td>\n",
       "      <td>2.830743e+06</td>\n",
       "      <td>2.830743e+06</td>\n",
       "      <td>2.830743e+06</td>\n",
       "      <td>...</td>\n",
       "      <td>2.830743e+06</td>\n",
       "      <td>2.830743e+06</td>\n",
       "      <td>2.830743e+06</td>\n",
       "      <td>2.830743e+06</td>\n",
       "      <td>2.830743e+06</td>\n",
       "      <td>2.830743e+06</td>\n",
       "      <td>2.830743e+06</td>\n",
       "      <td>2.830743e+06</td>\n",
       "      <td>2.830743e+06</td>\n",
       "      <td>2.830743e+06</td>\n",
       "    </tr>\n",
       "    <tr>\n",
       "      <th>mean</th>\n",
       "      <td>1.478566e+07</td>\n",
       "      <td>9.361160e+00</td>\n",
       "      <td>1.039377e+01</td>\n",
       "      <td>5.493024e+02</td>\n",
       "      <td>1.616264e+04</td>\n",
       "      <td>2.075999e+02</td>\n",
       "      <td>1.871366e+01</td>\n",
       "      <td>5.820194e+01</td>\n",
       "      <td>6.891013e+01</td>\n",
       "      <td>8.708495e+02</td>\n",
       "      <td>...</td>\n",
       "      <td>5.418218e+00</td>\n",
       "      <td>-2.741688e+03</td>\n",
       "      <td>8.155132e+04</td>\n",
       "      <td>4.113412e+04</td>\n",
       "      <td>1.531825e+05</td>\n",
       "      <td>5.829582e+04</td>\n",
       "      <td>8.316037e+06</td>\n",
       "      <td>5.038439e+05</td>\n",
       "      <td>8.695752e+06</td>\n",
       "      <td>7.920031e+06</td>\n",
       "    </tr>\n",
       "    <tr>\n",
       "      <th>std</th>\n",
       "      <td>3.365374e+07</td>\n",
       "      <td>7.496728e+02</td>\n",
       "      <td>9.973883e+02</td>\n",
       "      <td>9.993589e+03</td>\n",
       "      <td>2.263088e+06</td>\n",
       "      <td>7.171848e+02</td>\n",
       "      <td>6.033935e+01</td>\n",
       "      <td>1.860912e+02</td>\n",
       "      <td>2.811871e+02</td>\n",
       "      <td>1.946367e+03</td>\n",
       "      <td>...</td>\n",
       "      <td>6.364257e+02</td>\n",
       "      <td>1.084989e+06</td>\n",
       "      <td>6.485999e+05</td>\n",
       "      <td>3.933815e+05</td>\n",
       "      <td>1.025825e+06</td>\n",
       "      <td>5.770923e+05</td>\n",
       "      <td>2.363008e+07</td>\n",
       "      <td>4.602984e+06</td>\n",
       "      <td>2.436689e+07</td>\n",
       "      <td>2.336342e+07</td>\n",
       "    </tr>\n",
       "    <tr>\n",
       "      <th>min</th>\n",
       "      <td>-1.300000e+01</td>\n",
       "      <td>1.000000e+00</td>\n",
       "      <td>0.000000e+00</td>\n",
       "      <td>0.000000e+00</td>\n",
       "      <td>0.000000e+00</td>\n",
       "      <td>0.000000e+00</td>\n",
       "      <td>0.000000e+00</td>\n",
       "      <td>0.000000e+00</td>\n",
       "      <td>0.000000e+00</td>\n",
       "      <td>0.000000e+00</td>\n",
       "      <td>...</td>\n",
       "      <td>0.000000e+00</td>\n",
       "      <td>-5.368707e+08</td>\n",
       "      <td>0.000000e+00</td>\n",
       "      <td>0.000000e+00</td>\n",
       "      <td>0.000000e+00</td>\n",
       "      <td>0.000000e+00</td>\n",
       "      <td>0.000000e+00</td>\n",
       "      <td>0.000000e+00</td>\n",
       "      <td>0.000000e+00</td>\n",
       "      <td>0.000000e+00</td>\n",
       "    </tr>\n",
       "    <tr>\n",
       "      <th>25%</th>\n",
       "      <td>1.550000e+02</td>\n",
       "      <td>2.000000e+00</td>\n",
       "      <td>1.000000e+00</td>\n",
       "      <td>1.200000e+01</td>\n",
       "      <td>0.000000e+00</td>\n",
       "      <td>6.000000e+00</td>\n",
       "      <td>0.000000e+00</td>\n",
       "      <td>6.000000e+00</td>\n",
       "      <td>0.000000e+00</td>\n",
       "      <td>0.000000e+00</td>\n",
       "      <td>...</td>\n",
       "      <td>0.000000e+00</td>\n",
       "      <td>2.000000e+01</td>\n",
       "      <td>0.000000e+00</td>\n",
       "      <td>0.000000e+00</td>\n",
       "      <td>0.000000e+00</td>\n",
       "      <td>0.000000e+00</td>\n",
       "      <td>0.000000e+00</td>\n",
       "      <td>0.000000e+00</td>\n",
       "      <td>0.000000e+00</td>\n",
       "      <td>0.000000e+00</td>\n",
       "    </tr>\n",
       "    <tr>\n",
       "      <th>50%</th>\n",
       "      <td>3.131600e+04</td>\n",
       "      <td>2.000000e+00</td>\n",
       "      <td>2.000000e+00</td>\n",
       "      <td>6.200000e+01</td>\n",
       "      <td>1.230000e+02</td>\n",
       "      <td>3.700000e+01</td>\n",
       "      <td>2.000000e+00</td>\n",
       "      <td>3.400000e+01</td>\n",
       "      <td>0.000000e+00</td>\n",
       "      <td>7.900000e+01</td>\n",
       "      <td>...</td>\n",
       "      <td>1.000000e+00</td>\n",
       "      <td>2.400000e+01</td>\n",
       "      <td>0.000000e+00</td>\n",
       "      <td>0.000000e+00</td>\n",
       "      <td>0.000000e+00</td>\n",
       "      <td>0.000000e+00</td>\n",
       "      <td>0.000000e+00</td>\n",
       "      <td>0.000000e+00</td>\n",
       "      <td>0.000000e+00</td>\n",
       "      <td>0.000000e+00</td>\n",
       "    </tr>\n",
       "    <tr>\n",
       "      <th>75%</th>\n",
       "      <td>3.204828e+06</td>\n",
       "      <td>5.000000e+00</td>\n",
       "      <td>4.000000e+00</td>\n",
       "      <td>1.870000e+02</td>\n",
       "      <td>4.820000e+02</td>\n",
       "      <td>8.100000e+01</td>\n",
       "      <td>3.600000e+01</td>\n",
       "      <td>5.000000e+01</td>\n",
       "      <td>2.616295e+01</td>\n",
       "      <td>2.800000e+02</td>\n",
       "      <td>...</td>\n",
       "      <td>2.000000e+00</td>\n",
       "      <td>3.200000e+01</td>\n",
       "      <td>0.000000e+00</td>\n",
       "      <td>0.000000e+00</td>\n",
       "      <td>0.000000e+00</td>\n",
       "      <td>0.000000e+00</td>\n",
       "      <td>0.000000e+00</td>\n",
       "      <td>0.000000e+00</td>\n",
       "      <td>0.000000e+00</td>\n",
       "      <td>0.000000e+00</td>\n",
       "    </tr>\n",
       "    <tr>\n",
       "      <th>max</th>\n",
       "      <td>1.200000e+08</td>\n",
       "      <td>2.197590e+05</td>\n",
       "      <td>2.919220e+05</td>\n",
       "      <td>1.290000e+07</td>\n",
       "      <td>6.554530e+08</td>\n",
       "      <td>2.482000e+04</td>\n",
       "      <td>2.325000e+03</td>\n",
       "      <td>5.940857e+03</td>\n",
       "      <td>7.125597e+03</td>\n",
       "      <td>1.953000e+04</td>\n",
       "      <td>...</td>\n",
       "      <td>2.135570e+05</td>\n",
       "      <td>1.380000e+02</td>\n",
       "      <td>1.100000e+08</td>\n",
       "      <td>7.420000e+07</td>\n",
       "      <td>1.100000e+08</td>\n",
       "      <td>1.100000e+08</td>\n",
       "      <td>1.200000e+08</td>\n",
       "      <td>7.690000e+07</td>\n",
       "      <td>1.200000e+08</td>\n",
       "      <td>1.200000e+08</td>\n",
       "    </tr>\n",
       "  </tbody>\n",
       "</table>\n",
       "<p>8 rows × 77 columns</p>\n",
       "</div>"
      ],
      "text/plain": [
       "        Flow Duration   Total Fwd Packets   Total Backward Packets  \\\n",
       "count    2.830743e+06        2.830743e+06             2.830743e+06   \n",
       "mean     1.478566e+07        9.361160e+00             1.039377e+01   \n",
       "std      3.365374e+07        7.496728e+02             9.973883e+02   \n",
       "min     -1.300000e+01        1.000000e+00             0.000000e+00   \n",
       "25%      1.550000e+02        2.000000e+00             1.000000e+00   \n",
       "50%      3.131600e+04        2.000000e+00             2.000000e+00   \n",
       "75%      3.204828e+06        5.000000e+00             4.000000e+00   \n",
       "max      1.200000e+08        2.197590e+05             2.919220e+05   \n",
       "\n",
       "       Total Length of Fwd Packets   Total Length of Bwd Packets  \\\n",
       "count                 2.830743e+06                  2.830743e+06   \n",
       "mean                  5.493024e+02                  1.616264e+04   \n",
       "std                   9.993589e+03                  2.263088e+06   \n",
       "min                   0.000000e+00                  0.000000e+00   \n",
       "25%                   1.200000e+01                  0.000000e+00   \n",
       "50%                   6.200000e+01                  1.230000e+02   \n",
       "75%                   1.870000e+02                  4.820000e+02   \n",
       "max                   1.290000e+07                  6.554530e+08   \n",
       "\n",
       "        Fwd Packet Length Max   Fwd Packet Length Min  \\\n",
       "count            2.830743e+06            2.830743e+06   \n",
       "mean             2.075999e+02            1.871366e+01   \n",
       "std              7.171848e+02            6.033935e+01   \n",
       "min              0.000000e+00            0.000000e+00   \n",
       "25%              6.000000e+00            0.000000e+00   \n",
       "50%              3.700000e+01            2.000000e+00   \n",
       "75%              8.100000e+01            3.600000e+01   \n",
       "max              2.482000e+04            2.325000e+03   \n",
       "\n",
       "        Fwd Packet Length Mean   Fwd Packet Length Std  Bwd Packet Length Max  \\\n",
       "count             2.830743e+06            2.830743e+06           2.830743e+06   \n",
       "mean              5.820194e+01            6.891013e+01           8.708495e+02   \n",
       "std               1.860912e+02            2.811871e+02           1.946367e+03   \n",
       "min               0.000000e+00            0.000000e+00           0.000000e+00   \n",
       "25%               6.000000e+00            0.000000e+00           0.000000e+00   \n",
       "50%               3.400000e+01            0.000000e+00           7.900000e+01   \n",
       "75%               5.000000e+01            2.616295e+01           2.800000e+02   \n",
       "max               5.940857e+03            7.125597e+03           1.953000e+04   \n",
       "\n",
       "       ...   act_data_pkt_fwd   min_seg_size_forward   Active Mean  \\\n",
       "count  ...       2.830743e+06           2.830743e+06  2.830743e+06   \n",
       "mean   ...       5.418218e+00          -2.741688e+03  8.155132e+04   \n",
       "std    ...       6.364257e+02           1.084989e+06  6.485999e+05   \n",
       "min    ...       0.000000e+00          -5.368707e+08  0.000000e+00   \n",
       "25%    ...       0.000000e+00           2.000000e+01  0.000000e+00   \n",
       "50%    ...       1.000000e+00           2.400000e+01  0.000000e+00   \n",
       "75%    ...       2.000000e+00           3.200000e+01  0.000000e+00   \n",
       "max    ...       2.135570e+05           1.380000e+02  1.100000e+08   \n",
       "\n",
       "         Active Std    Active Max    Active Min     Idle Mean      Idle Std  \\\n",
       "count  2.830743e+06  2.830743e+06  2.830743e+06  2.830743e+06  2.830743e+06   \n",
       "mean   4.113412e+04  1.531825e+05  5.829582e+04  8.316037e+06  5.038439e+05   \n",
       "std    3.933815e+05  1.025825e+06  5.770923e+05  2.363008e+07  4.602984e+06   \n",
       "min    0.000000e+00  0.000000e+00  0.000000e+00  0.000000e+00  0.000000e+00   \n",
       "25%    0.000000e+00  0.000000e+00  0.000000e+00  0.000000e+00  0.000000e+00   \n",
       "50%    0.000000e+00  0.000000e+00  0.000000e+00  0.000000e+00  0.000000e+00   \n",
       "75%    0.000000e+00  0.000000e+00  0.000000e+00  0.000000e+00  0.000000e+00   \n",
       "max    7.420000e+07  1.100000e+08  1.100000e+08  1.200000e+08  7.690000e+07   \n",
       "\n",
       "           Idle Max      Idle Min  \n",
       "count  2.830743e+06  2.830743e+06  \n",
       "mean   8.695752e+06  7.920031e+06  \n",
       "std    2.436689e+07  2.336342e+07  \n",
       "min    0.000000e+00  0.000000e+00  \n",
       "25%    0.000000e+00  0.000000e+00  \n",
       "50%    0.000000e+00  0.000000e+00  \n",
       "75%    0.000000e+00  0.000000e+00  \n",
       "max    1.200000e+08  1.200000e+08  \n",
       "\n",
       "[8 rows x 77 columns]"
      ]
     },
     "execution_count": 179,
     "metadata": {},
     "output_type": "execute_result"
    }
   ],
   "source": [
    "# 5 summary of dataset\n",
    "pre_pca_ids_dataset.describe()"
   ]
  },
  {
   "cell_type": "code",
   "execution_count": 180,
   "id": "32c893c4",
   "metadata": {},
   "outputs": [
    {
     "data": {
      "text/plain": [
       "(3119345, 79)"
      ]
     },
     "execution_count": 180,
     "metadata": {},
     "output_type": "execute_result"
    }
   ],
   "source": [
    "pre_pca_ids_dataset.shape"
   ]
  },
  {
   "cell_type": "code",
   "execution_count": 181,
   "id": "46759766",
   "metadata": {},
   "outputs": [],
   "source": [
    "# Dropping missing values\n",
    "pre_pca_ids_dataset.dropna(inplace=True)"
   ]
  },
  {
   "cell_type": "code",
   "execution_count": 182,
   "id": "5e365ad1",
   "metadata": {},
   "outputs": [
    {
     "data": {
      "text/plain": [
       "(2829385, 79)"
      ]
     },
     "execution_count": 182,
     "metadata": {},
     "output_type": "execute_result"
    }
   ],
   "source": [
    "pre_pca_ids_dataset.shape"
   ]
  },
  {
   "cell_type": "code",
   "execution_count": 183,
   "id": "c64b4870",
   "metadata": {},
   "outputs": [
    {
     "data": {
      "text/plain": [
       "409"
      ]
     },
     "execution_count": 183,
     "metadata": {},
     "output_type": "execute_result"
    }
   ],
   "source": [
    "2273097 - 2272688"
   ]
  },
  {
   "cell_type": "code",
   "execution_count": 184,
   "id": "ce0353b6",
   "metadata": {},
   "outputs": [],
   "source": [
    "# Converting infinity to nan\n",
    "pre_pca_ids_dataset.replace([np.inf, -np.inf], np.nan, inplace=True)"
   ]
  },
  {
   "cell_type": "code",
   "execution_count": 185,
   "id": "9fb26bdd",
   "metadata": {},
   "outputs": [],
   "source": [
    "# Dropping na\n",
    "pre_pca_ids_dataset.dropna(inplace=True)"
   ]
  },
  {
   "cell_type": "code",
   "execution_count": 186,
   "id": "1052eff8",
   "metadata": {},
   "outputs": [
    {
     "data": {
      "text/plain": [
       "(2827876, 79)"
      ]
     },
     "execution_count": 186,
     "metadata": {},
     "output_type": "execute_result"
    }
   ],
   "source": [
    "pre_pca_ids_dataset.shape"
   ]
  },
  {
   "cell_type": "code",
   "execution_count": 187,
   "id": "096a3bc3",
   "metadata": {},
   "outputs": [
    {
     "data": {
      "text/plain": [
       "1368"
      ]
     },
     "execution_count": 187,
     "metadata": {},
     "output_type": "execute_result"
    }
   ],
   "source": [
    "2272688 - 2271320"
   ]
  },
  {
   "cell_type": "code",
   "execution_count": 188,
   "id": "9295e7fd",
   "metadata": {},
   "outputs": [
    {
     "data": {
      "text/plain": [
       "(2271320, 79)"
      ]
     },
     "execution_count": 188,
     "metadata": {},
     "output_type": "execute_result"
    }
   ],
   "source": [
    "# filtering dataset;- selecting only BEGNIN records\n",
    "ids_dataset_benign = pre_pca_ids_dataset[pre_pca_ids_dataset[' Label'] == 'BENIGN'].copy()\n",
    "timestamp_benign = ids_dataset_benign[' Timestamp'].copy()\n",
    "ids_dataset_benign.shape\n"
   ]
  },
  {
   "cell_type": "code",
   "execution_count": 189,
   "id": "b238ba24",
   "metadata": {},
   "outputs": [
    {
     "data": {
      "text/plain": [
       "(556556, 79)"
      ]
     },
     "execution_count": 189,
     "metadata": {},
     "output_type": "execute_result"
    }
   ],
   "source": [
    "# filtering dataset;- selecting only BEGNIN records\n",
    "ids_dataset_nonbenign = pre_pca_ids_dataset[pre_pca_ids_dataset[' Label'] != 'BENIGN'].copy()\n",
    "timestamp_malicious = ids_dataset_nonbenign[' Timestamp'].copy()\n",
    "ids_dataset_nonbenign.shape"
   ]
  },
  {
   "cell_type": "code",
   "execution_count": 190,
   "id": "2bb85120",
   "metadata": {},
   "outputs": [],
   "source": [
    "timestamp = pre_pca_ids_dataset[' Timestamp'].copy()"
   ]
  },
  {
   "cell_type": "code",
   "execution_count": 191,
   "id": "9c5bd3e3",
   "metadata": {},
   "outputs": [],
   "source": [
    "pre_pca_ids_dataset.drop([' Timestamp', ' Label'], axis=1, inplace=True)\n",
    "ids_dataset_benign.drop([' Timestamp', ' Label'], axis=1, inplace=True)\n",
    "ids_dataset_nonbenign.drop([' Timestamp', ' Label'], axis=1, inplace=True)"
   ]
  },
  {
   "cell_type": "code",
   "execution_count": 192,
   "id": "946af936",
   "metadata": {},
   "outputs": [
    {
     "data": {
      "text/plain": [
       "(2827876,)"
      ]
     },
     "execution_count": 192,
     "metadata": {},
     "output_type": "execute_result"
    }
   ],
   "source": [
    "timestamp.shape"
   ]
  },
  {
   "cell_type": "code",
   "execution_count": 193,
   "id": "9b60fb88",
   "metadata": {
    "scrolled": true
   },
   "outputs": [],
   "source": [
    "# Scaling dataset\n",
    "scaler = StandardScaler()\n",
    "scaler.fit(pre_pca_ids_dataset)\n",
    "scaled_pre_pca_dataset_all = scaler.transform(pre_pca_ids_dataset)"
   ]
  },
  {
   "cell_type": "code",
   "execution_count": 194,
   "id": "a478c14b",
   "metadata": {},
   "outputs": [],
   "source": [
    "scaled_pre_pca_dataset_benign = scaler.transform(ids_dataset_benign)"
   ]
  },
  {
   "cell_type": "code",
   "execution_count": 195,
   "id": "3ad66e5b",
   "metadata": {},
   "outputs": [],
   "source": [
    "scaled_pre_pca_dataset_malicious = scaler.transform(ids_dataset_nonbenign)"
   ]
  },
  {
   "cell_type": "code",
   "execution_count": 196,
   "id": "416bdb5a",
   "metadata": {},
   "outputs": [],
   "source": [
    "from sklearn.model_selection import train_test_split\n",
    "# Splitting benign into test and train datasets\n",
    "train_dataset, test_dataset, train_timestamp, test_timestamp = train_test_split(\n",
    "    scaled_pre_pca_dataset_benign, \n",
    "    timestamp_benign, test_size=0.5, \n",
    "    random_state=42\n",
    ")"
   ]
  },
  {
   "cell_type": "code",
   "execution_count": 197,
   "id": "5ea57345",
   "metadata": {},
   "outputs": [],
   "source": [
    "# Applying PCA on dataset\n",
    "# Creating a PCA object\n",
    "# pca = PCA(n_components=1, svd_solver='full')\n",
    "pca_benign = PCA(n_components=1, svd_solver='full')\n",
    "# pca_malicious = PCA(n_components=1, svd_solver='full')"
   ]
  },
  {
   "cell_type": "code",
   "execution_count": 198,
   "id": "663c935b",
   "metadata": {},
   "outputs": [],
   "source": [
    "# Performing PCA\n",
    "\n",
    "# fitting pca with normal data\n",
    "pca_benign.fit(scaled_pre_pca_dataset_benign)\n",
    "\n",
    "# transforming dataset\n",
    "principal_components_benign = pca_benign.transform(scaled_pre_pca_dataset_benign)\n",
    "# principal_components = pca_benign.transform(scaled_pre_pca_dataset_all)\n",
    "principal_components_malicious = pca_benign.transform(scaled_pre_pca_dataset_malicious)"
   ]
  },
  {
   "cell_type": "code",
   "execution_count": 200,
   "id": "624220cc",
   "metadata": {
    "scrolled": false
   },
   "outputs": [
    {
     "data": {
      "text/plain": [
       "Text(0.5, 1.0, '1 Component PCA for BENIGN  dataset')"
      ]
     },
     "execution_count": 200,
     "metadata": {},
     "output_type": "execute_result"
    },
    {
     "data": {
      "image/png": "[encoded data removed]",
      "text/plain": [
       "<Figure size 1600x800 with 1 Axes>"
      ]
     },
     "metadata": {},
     "output_type": "display_data"
    }
   ],
   "source": [
    "# pd.DataFrame(principal_components, index=timestamp).plot(figsize=(16, 8))\n",
    "# plt.title(\"1 Component PCA for the entire dataset\")\n",
    "\n",
    "pd.DataFrame(principal_components_benign, index=timestamp_benign).plot(figsize=(16, 8))\n",
    "plt.title(\"1 Component PCA for BENIGN  dataset\")\n",
    "\n",
    "# pd.DataFrame(principal_components_malicious, index=timestamp_malicious).plot(figsize=(16, 8))\n",
    "# plt.title(\"1 Component PCA for Malicious dataset\")"
   ]
  },
  {
   "cell_type": "code",
   "execution_count": 277,
   "id": "c4976a16",
   "metadata": {},
   "outputs": [],
   "source": [
    "# inverting benign dataset\n",
    "inverse_of_benign_pca = pca_benign.inverse_transform(principal_components_benign)"
   ]
  },
  {
   "cell_type": "code",
   "execution_count": 278,
   "id": "6c11994e",
   "metadata": {},
   "outputs": [
    {
     "data": {
      "text/plain": [
       "array([ 21.45697688, 134.36536565, 134.36536565, ...,  65.72947163,\n",
       "        43.49114991,  42.87044078])"
      ]
     },
     "execution_count": 278,
     "metadata": {},
     "output_type": "execute_result"
    }
   ],
   "source": [
    "# calculating the error for benign dataset\n",
    "benign_error = np.sum((scaled_pre_pca_dataset_benign - inverse_of_benign_pca) ** 2, axis=1)\n",
    "benign_error"
   ]
  },
  {
   "cell_type": "code",
   "execution_count": 279,
   "id": "e8b2ce7f",
   "metadata": {},
   "outputs": [
    {
     "data": {
      "text/plain": [
       "Text(0.5, 1.0, 'Benign dataset error')"
      ]
     },
     "execution_count": 279,
     "metadata": {},
     "output_type": "execute_result"
    },
    {
     "data": {
      "image/png": "[encoded data removed]",
      "text/plain": [
       "<Figure size 640x480 with 1 Axes>"
      ]
     },
     "metadata": {},
     "output_type": "display_data"
    }
   ],
   "source": [
    "# plotting benign dataset error\n",
    "pd.Series(data=benign_error, index=timestamp_benign).plot()\n",
    "plt.title(\"Benign dataset error\")"
   ]
  },
  {
   "cell_type": "code",
   "execution_count": 280,
   "id": "cd47e99f",
   "metadata": {},
   "outputs": [],
   "source": [
    "# inverting malicious\n",
    "inverse_of_malicious_pca = pca_benign.inverse_transform(principal_components_malicious)"
   ]
  },
  {
   "cell_type": "code",
   "execution_count": 281,
   "id": "d96e4e92",
   "metadata": {},
   "outputs": [
    {
     "data": {
      "text/plain": [
       "array([19.73532433, 16.29362358, 15.28415912, ..., 10.12803544,\n",
       "       22.63694161,  7.18879947])"
      ]
     },
     "execution_count": 281,
     "metadata": {},
     "output_type": "execute_result"
    }
   ],
   "source": [
    "# calculating the error for malicious dataset\n",
    "malicious_error = np.sum((scaled_pre_pca_dataset_malicious - inverse_of_malicious_pca) ** 2, axis=1)\n",
    "malicious_error"
   ]
  },
  {
   "cell_type": "code",
   "execution_count": 282,
   "id": "de9d8bf6",
   "metadata": {},
   "outputs": [
    {
     "data": {
      "text/plain": [
       "Text(0.5, 1.0, 'Malicious dataset error')"
      ]
     },
     "execution_count": 282,
     "metadata": {},
     "output_type": "execute_result"
    },
    {
     "data": {
      "image/png": "[encoded data removed]",
      "text/plain": [
       "<Figure size 640x480 with 1 Axes>"
      ]
     },
     "metadata": {},
     "output_type": "display_data"
    }
   ],
   "source": [
    "# plotting malicious dataset error\n",
    "pd.Series(data=malicious_error, index=timestamp_malicious).plot()\n",
    "plt.title(\"Malicious dataset error\")"
   ]
  },
  {
   "cell_type": "code",
   "execution_count": 305,
   "id": "5fac9118",
   "metadata": {},
   "outputs": [
    {
     "data": {
      "text/plain": [
       "<AxesSubplot: >"
      ]
     },
     "execution_count": 305,
     "metadata": {},
     "output_type": "execute_result"
    },
    {
     "data": {
      "image/png": "[encoded data removed]",
      "text/plain": [
       "<Figure size 640x480 with 1 Axes>"
      ]
     },
     "metadata": {},
     "output_type": "display_data"
    }
   ],
   "source": [
    "sns.lineplot(data=benign_error)"
   ]
  },
  {
   "cell_type": "code",
   "execution_count": null,
   "id": "bb4dd75d",
   "metadata": {},
   "outputs": [],
   "source": []
  }
 ],
 "metadata": {
  "kernelspec": {
   "display_name": "Python 3 (ipykernel)",
   "language": "python",
   "name": "python3"
  },
  "language_info": {
   "codemirror_mode": {
    "name": "ipython",
    "version": 3
   },
   "file_extension": ".py",
   "mimetype": "text/x-python",
   "name": "python",
   "nbconvert_exporter": "python",
   "pygments_lexer": "ipython3",
   "version": "3.11.1"
  }
 },
 "nbformat": 4,
 "nbformat_minor": 5
}
