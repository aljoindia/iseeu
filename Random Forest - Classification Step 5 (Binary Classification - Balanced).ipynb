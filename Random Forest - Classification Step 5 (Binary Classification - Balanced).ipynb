{
 "cells": [
  {
   "cell_type": "markdown",
   "id": "2847ab9e",
   "metadata": {},
   "source": [
    "# Random Forest - Classification Step 5 (Binary classification - BENIGN/MALICIOUS)"
   ]
  },
  {
   "cell_type": "code",
   "execution_count": 1,
   "id": "4a235e3c",
   "metadata": {},
   "outputs": [],
   "source": [
    "import pandas as pd\n",
    "from sklearn.decomposition import PCA\n",
    "from sklearn.preprocessing import StandardScaler\n",
    "import seaborn as sns\n",
    "import numpy as np\n",
    "from imblearn.over_sampling import SMOTE\n",
    "import matplotlib.pyplot as plt\n",
    "from sklearn.ensemble import RandomForestClassifier\n",
    "from sklearn.metrics import confusion_matrix, classification_report\n",
    "from sklearn.model_selection import train_test_split"
   ]
  },
  {
   "cell_type": "code",
   "execution_count": 2,
   "id": "8f0e08a6",
   "metadata": {},
   "outputs": [
    {
     "name": "stderr",
     "output_type": "stream",
     "text": [
      "C:\\Users\\Admin\\AppData\\Local\\Temp\\ipykernel_12756\\1319772336.py:2: DtypeWarning: Columns (0,1,3,6,84) have mixed types. Specify dtype option on import or set low_memory=False.\n",
      "  ids_dataset = pd.read_csv(\"IDS_merged_dataset.csv\")\n"
     ]
    },
    {
     "data": {
      "text/html": [
       "<div>\n",
       "<style scoped>\n",
       "    .dataframe tbody tr th:only-of-type {\n",
       "        vertical-align: middle;\n",
       "    }\n",
       "\n",
       "    .dataframe tbody tr th {\n",
       "        vertical-align: top;\n",
       "    }\n",
       "\n",
       "    .dataframe thead th {\n",
       "        text-align: right;\n",
       "    }\n",
       "</style>\n",
       "<table border=\"1\" class=\"dataframe\">\n",
       "  <thead>\n",
       "    <tr style=\"text-align: right;\">\n",
       "      <th></th>\n",
       "      <th>Flow ID</th>\n",
       "      <th>Source IP</th>\n",
       "      <th>Source Port</th>\n",
       "      <th>Destination IP</th>\n",
       "      <th>Destination Port</th>\n",
       "      <th>Protocol</th>\n",
       "      <th>Timestamp</th>\n",
       "      <th>Flow Duration</th>\n",
       "      <th>Total Fwd Packets</th>\n",
       "      <th>Total Backward Packets</th>\n",
       "      <th>...</th>\n",
       "      <th>min_seg_size_forward</th>\n",
       "      <th>Active Mean</th>\n",
       "      <th>Active Std</th>\n",
       "      <th>Active Max</th>\n",
       "      <th>Active Min</th>\n",
       "      <th>Idle Mean</th>\n",
       "      <th>Idle Std</th>\n",
       "      <th>Idle Max</th>\n",
       "      <th>Idle Min</th>\n",
       "      <th>Label</th>\n",
       "    </tr>\n",
       "  </thead>\n",
       "  <tbody>\n",
       "    <tr>\n",
       "      <th>0</th>\n",
       "      <td>192.168.10.5-8.254.250.126-49188-80-6</td>\n",
       "      <td>8.254.250.126</td>\n",
       "      <td>80.0</td>\n",
       "      <td>192.168.10.5</td>\n",
       "      <td>49188.0</td>\n",
       "      <td>6.0</td>\n",
       "      <td>03/07/2017 08:55:58</td>\n",
       "      <td>4.0</td>\n",
       "      <td>2.0</td>\n",
       "      <td>0.0</td>\n",
       "      <td>...</td>\n",
       "      <td>20.0</td>\n",
       "      <td>0.0</td>\n",
       "      <td>0.0</td>\n",
       "      <td>0.0</td>\n",
       "      <td>0.0</td>\n",
       "      <td>0.0</td>\n",
       "      <td>0.0</td>\n",
       "      <td>0.0</td>\n",
       "      <td>0.0</td>\n",
       "      <td>BENIGN</td>\n",
       "    </tr>\n",
       "    <tr>\n",
       "      <th>1</th>\n",
       "      <td>192.168.10.5-8.254.250.126-49188-80-6</td>\n",
       "      <td>8.254.250.126</td>\n",
       "      <td>80.0</td>\n",
       "      <td>192.168.10.5</td>\n",
       "      <td>49188.0</td>\n",
       "      <td>6.0</td>\n",
       "      <td>03/07/2017 08:55:58</td>\n",
       "      <td>1.0</td>\n",
       "      <td>2.0</td>\n",
       "      <td>0.0</td>\n",
       "      <td>...</td>\n",
       "      <td>20.0</td>\n",
       "      <td>0.0</td>\n",
       "      <td>0.0</td>\n",
       "      <td>0.0</td>\n",
       "      <td>0.0</td>\n",
       "      <td>0.0</td>\n",
       "      <td>0.0</td>\n",
       "      <td>0.0</td>\n",
       "      <td>0.0</td>\n",
       "      <td>BENIGN</td>\n",
       "    </tr>\n",
       "    <tr>\n",
       "      <th>2</th>\n",
       "      <td>192.168.10.5-8.254.250.126-49188-80-6</td>\n",
       "      <td>8.254.250.126</td>\n",
       "      <td>80.0</td>\n",
       "      <td>192.168.10.5</td>\n",
       "      <td>49188.0</td>\n",
       "      <td>6.0</td>\n",
       "      <td>03/07/2017 08:55:58</td>\n",
       "      <td>1.0</td>\n",
       "      <td>2.0</td>\n",
       "      <td>0.0</td>\n",
       "      <td>...</td>\n",
       "      <td>20.0</td>\n",
       "      <td>0.0</td>\n",
       "      <td>0.0</td>\n",
       "      <td>0.0</td>\n",
       "      <td>0.0</td>\n",
       "      <td>0.0</td>\n",
       "      <td>0.0</td>\n",
       "      <td>0.0</td>\n",
       "      <td>0.0</td>\n",
       "      <td>BENIGN</td>\n",
       "    </tr>\n",
       "    <tr>\n",
       "      <th>3</th>\n",
       "      <td>192.168.10.5-8.254.250.126-49188-80-6</td>\n",
       "      <td>8.254.250.126</td>\n",
       "      <td>80.0</td>\n",
       "      <td>192.168.10.5</td>\n",
       "      <td>49188.0</td>\n",
       "      <td>6.0</td>\n",
       "      <td>03/07/2017 08:55:58</td>\n",
       "      <td>1.0</td>\n",
       "      <td>2.0</td>\n",
       "      <td>0.0</td>\n",
       "      <td>...</td>\n",
       "      <td>20.0</td>\n",
       "      <td>0.0</td>\n",
       "      <td>0.0</td>\n",
       "      <td>0.0</td>\n",
       "      <td>0.0</td>\n",
       "      <td>0.0</td>\n",
       "      <td>0.0</td>\n",
       "      <td>0.0</td>\n",
       "      <td>0.0</td>\n",
       "      <td>BENIGN</td>\n",
       "    </tr>\n",
       "    <tr>\n",
       "      <th>4</th>\n",
       "      <td>192.168.10.14-8.253.185.121-49486-80-6</td>\n",
       "      <td>8.253.185.121</td>\n",
       "      <td>80.0</td>\n",
       "      <td>192.168.10.14</td>\n",
       "      <td>49486.0</td>\n",
       "      <td>6.0</td>\n",
       "      <td>03/07/2017 08:56:22</td>\n",
       "      <td>3.0</td>\n",
       "      <td>2.0</td>\n",
       "      <td>0.0</td>\n",
       "      <td>...</td>\n",
       "      <td>20.0</td>\n",
       "      <td>0.0</td>\n",
       "      <td>0.0</td>\n",
       "      <td>0.0</td>\n",
       "      <td>0.0</td>\n",
       "      <td>0.0</td>\n",
       "      <td>0.0</td>\n",
       "      <td>0.0</td>\n",
       "      <td>0.0</td>\n",
       "      <td>BENIGN</td>\n",
       "    </tr>\n",
       "  </tbody>\n",
       "</table>\n",
       "<p>5 rows × 85 columns</p>\n",
       "</div>"
      ],
      "text/plain": [
       "                                  Flow ID      Source IP   Source Port  \\\n",
       "0   192.168.10.5-8.254.250.126-49188-80-6  8.254.250.126          80.0   \n",
       "1   192.168.10.5-8.254.250.126-49188-80-6  8.254.250.126          80.0   \n",
       "2   192.168.10.5-8.254.250.126-49188-80-6  8.254.250.126          80.0   \n",
       "3   192.168.10.5-8.254.250.126-49188-80-6  8.254.250.126          80.0   \n",
       "4  192.168.10.14-8.253.185.121-49486-80-6  8.253.185.121          80.0   \n",
       "\n",
       "   Destination IP   Destination Port   Protocol            Timestamp  \\\n",
       "0    192.168.10.5            49188.0        6.0  03/07/2017 08:55:58   \n",
       "1    192.168.10.5            49188.0        6.0  03/07/2017 08:55:58   \n",
       "2    192.168.10.5            49188.0        6.0  03/07/2017 08:55:58   \n",
       "3    192.168.10.5            49188.0        6.0  03/07/2017 08:55:58   \n",
       "4   192.168.10.14            49486.0        6.0  03/07/2017 08:56:22   \n",
       "\n",
       "    Flow Duration   Total Fwd Packets   Total Backward Packets  ...  \\\n",
       "0             4.0                 2.0                      0.0  ...   \n",
       "1             1.0                 2.0                      0.0  ...   \n",
       "2             1.0                 2.0                      0.0  ...   \n",
       "3             1.0                 2.0                      0.0  ...   \n",
       "4             3.0                 2.0                      0.0  ...   \n",
       "\n",
       "    min_seg_size_forward  Active Mean   Active Std   Active Max   Active Min  \\\n",
       "0                   20.0          0.0          0.0          0.0          0.0   \n",
       "1                   20.0          0.0          0.0          0.0          0.0   \n",
       "2                   20.0          0.0          0.0          0.0          0.0   \n",
       "3                   20.0          0.0          0.0          0.0          0.0   \n",
       "4                   20.0          0.0          0.0          0.0          0.0   \n",
       "\n",
       "   Idle Mean   Idle Std   Idle Max   Idle Min   Label  \n",
       "0        0.0        0.0        0.0        0.0  BENIGN  \n",
       "1        0.0        0.0        0.0        0.0  BENIGN  \n",
       "2        0.0        0.0        0.0        0.0  BENIGN  \n",
       "3        0.0        0.0        0.0        0.0  BENIGN  \n",
       "4        0.0        0.0        0.0        0.0  BENIGN  \n",
       "\n",
       "[5 rows x 85 columns]"
      ]
     },
     "execution_count": 2,
     "metadata": {},
     "output_type": "execute_result"
    }
   ],
   "source": [
    "# importing dataset\n",
    "ids_dataset = pd.read_csv(\"IDS_merged_dataset.csv\")\n",
    "ids_dataset.head()"
   ]
  },
  {
   "cell_type": "code",
   "execution_count": 3,
   "id": "bf2008e8",
   "metadata": {},
   "outputs": [
    {
     "data": {
      "text/plain": [
       "array(['BENIGN', 'FTP-Patator', 'SSH-Patator', 'DoS slowloris',\n",
       "       'DoS Slowhttptest', 'DoS Hulk', 'DoS GoldenEye', 'Heartbleed',\n",
       "       'Infiltration', 'Web Attack – Brute Force', 'Web Attack – XSS',\n",
       "       'Web Attack – Sql Injection', nan, 'Bot', 'DDoS', 'PortScan'],\n",
       "      dtype=object)"
      ]
     },
     "execution_count": 3,
     "metadata": {},
     "output_type": "execute_result"
    }
   ],
   "source": [
    "# Classes\n",
    "ids_dataset[' Label'].unique()"
   ]
  },
  {
   "cell_type": "code",
   "execution_count": 4,
   "id": "e14936a5",
   "metadata": {},
   "outputs": [
    {
     "data": {
      "text/plain": [
       "(3119345, 85)"
      ]
     },
     "execution_count": 4,
     "metadata": {},
     "output_type": "execute_result"
    }
   ],
   "source": [
    "ids_dataset.shape"
   ]
  },
  {
   "cell_type": "code",
   "execution_count": 5,
   "id": "9e9dea1a",
   "metadata": {},
   "outputs": [],
   "source": [
    "# dataset information\n",
    "# ids_dataset.info()"
   ]
  },
  {
   "cell_type": "code",
   "execution_count": 6,
   "id": "a9a2a1a2",
   "metadata": {},
   "outputs": [],
   "source": [
    "# Dataset columns\n",
    "# ids_dataset.columns"
   ]
  },
  {
   "cell_type": "code",
   "execution_count": 7,
   "id": "25090dd7",
   "metadata": {},
   "outputs": [],
   "source": [
    "# # dropping unwanted columns\n",
    "# columns_to_be_dropped = [\n",
    "#     'Flow ID', \n",
    "#     ' Source IP', \n",
    "#     ' Source Port',\n",
    "#     ' Destination IP', \n",
    "#     ' Destination Port', \n",
    "#     ' Protocol',\n",
    "#     ' Timestamp',\n",
    "#     ' Label'\n",
    "# ]\n",
    "\n",
    "# pre_pca_ids_dataset = ids_dataset.drop(columns_to_be_dropped, axis=1)\n",
    "# pre_pca_ids_dataset.head()"
   ]
  },
  {
   "cell_type": "code",
   "execution_count": 8,
   "id": "9ce0b2b8",
   "metadata": {},
   "outputs": [
    {
     "data": {
      "text/html": [
       "<div>\n",
       "<style scoped>\n",
       "    .dataframe tbody tr th:only-of-type {\n",
       "        vertical-align: middle;\n",
       "    }\n",
       "\n",
       "    .dataframe tbody tr th {\n",
       "        vertical-align: top;\n",
       "    }\n",
       "\n",
       "    .dataframe thead th {\n",
       "        text-align: right;\n",
       "    }\n",
       "</style>\n",
       "<table border=\"1\" class=\"dataframe\">\n",
       "  <thead>\n",
       "    <tr style=\"text-align: right;\">\n",
       "      <th></th>\n",
       "      <th>Destination Port</th>\n",
       "      <th>ACK Flag Count</th>\n",
       "      <th>Flow Packets/s</th>\n",
       "      <th>Fwd IAT Total</th>\n",
       "      <th>Flow Packets/s</th>\n",
       "      <th>Fwd IAT Mean</th>\n",
       "      <th>Packet Length Variance</th>\n",
       "      <th>Flow Duration</th>\n",
       "      <th>Flow IAT Max</th>\n",
       "      <th>Bwd Packet Length Std</th>\n",
       "      <th>Fwd IAT Std</th>\n",
       "      <th>Bwd Packets/s</th>\n",
       "      <th>Flow IAT Std</th>\n",
       "      <th>Init_Win_bytes_forward</th>\n",
       "      <th>Label</th>\n",
       "    </tr>\n",
       "  </thead>\n",
       "  <tbody>\n",
       "    <tr>\n",
       "      <th>0</th>\n",
       "      <td>49188.0</td>\n",
       "      <td>1.0</td>\n",
       "      <td>5.000000e+05</td>\n",
       "      <td>4.0</td>\n",
       "      <td>5.000000e+05</td>\n",
       "      <td>4.0</td>\n",
       "      <td>0.0</td>\n",
       "      <td>4.0</td>\n",
       "      <td>4.0</td>\n",
       "      <td>0.0</td>\n",
       "      <td>0.0</td>\n",
       "      <td>0.0</td>\n",
       "      <td>0.0</td>\n",
       "      <td>329.0</td>\n",
       "      <td>BENIGN</td>\n",
       "    </tr>\n",
       "    <tr>\n",
       "      <th>1</th>\n",
       "      <td>49188.0</td>\n",
       "      <td>1.0</td>\n",
       "      <td>2.000000e+06</td>\n",
       "      <td>1.0</td>\n",
       "      <td>2.000000e+06</td>\n",
       "      <td>1.0</td>\n",
       "      <td>0.0</td>\n",
       "      <td>1.0</td>\n",
       "      <td>1.0</td>\n",
       "      <td>0.0</td>\n",
       "      <td>0.0</td>\n",
       "      <td>0.0</td>\n",
       "      <td>0.0</td>\n",
       "      <td>329.0</td>\n",
       "      <td>BENIGN</td>\n",
       "    </tr>\n",
       "    <tr>\n",
       "      <th>2</th>\n",
       "      <td>49188.0</td>\n",
       "      <td>1.0</td>\n",
       "      <td>2.000000e+06</td>\n",
       "      <td>1.0</td>\n",
       "      <td>2.000000e+06</td>\n",
       "      <td>1.0</td>\n",
       "      <td>0.0</td>\n",
       "      <td>1.0</td>\n",
       "      <td>1.0</td>\n",
       "      <td>0.0</td>\n",
       "      <td>0.0</td>\n",
       "      <td>0.0</td>\n",
       "      <td>0.0</td>\n",
       "      <td>329.0</td>\n",
       "      <td>BENIGN</td>\n",
       "    </tr>\n",
       "    <tr>\n",
       "      <th>3</th>\n",
       "      <td>49188.0</td>\n",
       "      <td>1.0</td>\n",
       "      <td>2.000000e+06</td>\n",
       "      <td>1.0</td>\n",
       "      <td>2.000000e+06</td>\n",
       "      <td>1.0</td>\n",
       "      <td>0.0</td>\n",
       "      <td>1.0</td>\n",
       "      <td>1.0</td>\n",
       "      <td>0.0</td>\n",
       "      <td>0.0</td>\n",
       "      <td>0.0</td>\n",
       "      <td>0.0</td>\n",
       "      <td>329.0</td>\n",
       "      <td>BENIGN</td>\n",
       "    </tr>\n",
       "    <tr>\n",
       "      <th>4</th>\n",
       "      <td>49486.0</td>\n",
       "      <td>1.0</td>\n",
       "      <td>6.666667e+05</td>\n",
       "      <td>3.0</td>\n",
       "      <td>6.666667e+05</td>\n",
       "      <td>3.0</td>\n",
       "      <td>0.0</td>\n",
       "      <td>3.0</td>\n",
       "      <td>3.0</td>\n",
       "      <td>0.0</td>\n",
       "      <td>0.0</td>\n",
       "      <td>0.0</td>\n",
       "      <td>0.0</td>\n",
       "      <td>245.0</td>\n",
       "      <td>BENIGN</td>\n",
       "    </tr>\n",
       "  </tbody>\n",
       "</table>\n",
       "</div>"
      ],
      "text/plain": [
       "    Destination Port   ACK Flag Count   Flow Packets/s  Fwd IAT Total  \\\n",
       "0            49188.0              1.0     5.000000e+05            4.0   \n",
       "1            49188.0              1.0     2.000000e+06            1.0   \n",
       "2            49188.0              1.0     2.000000e+06            1.0   \n",
       "3            49188.0              1.0     2.000000e+06            1.0   \n",
       "4            49486.0              1.0     6.666667e+05            3.0   \n",
       "\n",
       "    Flow Packets/s   Fwd IAT Mean   Packet Length Variance   Flow Duration  \\\n",
       "0     5.000000e+05            4.0                      0.0             4.0   \n",
       "1     2.000000e+06            1.0                      0.0             1.0   \n",
       "2     2.000000e+06            1.0                      0.0             1.0   \n",
       "3     2.000000e+06            1.0                      0.0             1.0   \n",
       "4     6.666667e+05            3.0                      0.0             3.0   \n",
       "\n",
       "    Flow IAT Max   Bwd Packet Length Std   Fwd IAT Std   Bwd Packets/s  \\\n",
       "0            4.0                     0.0           0.0             0.0   \n",
       "1            1.0                     0.0           0.0             0.0   \n",
       "2            1.0                     0.0           0.0             0.0   \n",
       "3            1.0                     0.0           0.0             0.0   \n",
       "4            3.0                     0.0           0.0             0.0   \n",
       "\n",
       "    Flow IAT Std  Init_Win_bytes_forward   Label  \n",
       "0            0.0                   329.0  BENIGN  \n",
       "1            0.0                   329.0  BENIGN  \n",
       "2            0.0                   329.0  BENIGN  \n",
       "3            0.0                   329.0  BENIGN  \n",
       "4            0.0                   245.0  BENIGN  "
      ]
     },
     "execution_count": 8,
     "metadata": {},
     "output_type": "execute_result"
    }
   ],
   "source": [
    "selected_features = [' Destination Port', ' ACK Flag Count', ' Flow Packets/s', 'Fwd IAT Total', ' Flow Packets/s', \n",
    "                    ' Fwd IAT Mean', ' Packet Length Variance', ' Flow Duration', ' Flow IAT Max', ' Bwd Packet Length Std',\n",
    "                    ' Fwd IAT Std', ' Bwd Packets/s', ' Flow IAT Std', 'Init_Win_bytes_forward', ' Label']\n",
    "selected_dataset = ids_dataset[selected_features].copy()\n",
    "selected_dataset.head()"
   ]
  },
  {
   "cell_type": "code",
   "execution_count": 9,
   "id": "32c893c4",
   "metadata": {},
   "outputs": [
    {
     "data": {
      "text/plain": [
       "(3119345, 15)"
      ]
     },
     "execution_count": 9,
     "metadata": {},
     "output_type": "execute_result"
    }
   ],
   "source": [
    "selected_dataset.shape"
   ]
  },
  {
   "cell_type": "code",
   "execution_count": 10,
   "id": "46759766",
   "metadata": {},
   "outputs": [],
   "source": [
    "# Dropping missing values\n",
    "selected_dataset.dropna(inplace=True)"
   ]
  },
  {
   "cell_type": "code",
   "execution_count": 11,
   "id": "5e365ad1",
   "metadata": {},
   "outputs": [
    {
     "data": {
      "text/plain": [
       "(2830743, 15)"
      ]
     },
     "execution_count": 11,
     "metadata": {},
     "output_type": "execute_result"
    }
   ],
   "source": [
    "selected_dataset.shape"
   ]
  },
  {
   "cell_type": "code",
   "execution_count": 12,
   "id": "ce0353b6",
   "metadata": {},
   "outputs": [],
   "source": [
    "# Converting infinity to nan\n",
    "selected_dataset.replace([np.inf, -np.inf], np.nan, inplace=True)"
   ]
  },
  {
   "cell_type": "code",
   "execution_count": 13,
   "id": "9fb26bdd",
   "metadata": {},
   "outputs": [],
   "source": [
    "# Dropping na\n",
    "selected_dataset.dropna(inplace=True)"
   ]
  },
  {
   "cell_type": "code",
   "execution_count": 14,
   "id": "1052eff8",
   "metadata": {},
   "outputs": [
    {
     "data": {
      "text/plain": [
       "(2827876, 15)"
      ]
     },
     "execution_count": 14,
     "metadata": {},
     "output_type": "execute_result"
    }
   ],
   "source": [
    "selected_dataset.shape"
   ]
  },
  {
   "cell_type": "code",
   "execution_count": 15,
   "id": "40ab1f57",
   "metadata": {},
   "outputs": [
    {
     "data": {
      "text/plain": [
       "BENIGN       2271320\n",
       "MALICIOUS     556556\n",
       "Name:  Label, dtype: int64"
      ]
     },
     "execution_count": 15,
     "metadata": {},
     "output_type": "execute_result"
    }
   ],
   "source": [
    "selected_dataset[' Label'] = selected_dataset[' Label'].apply(lambda value: value if value == 'BENIGN' else 'MALICIOUS')\n",
    "selected_dataset[' Label'].value_counts()"
   ]
  },
  {
   "cell_type": "code",
   "execution_count": 16,
   "id": "f380c557",
   "metadata": {},
   "outputs": [],
   "source": [
    "desired_samples = selected_dataset[' Label'].value_counts()['BENIGN'] - selected_dataset[' Label'].value_counts()['MALICIOUS']\n",
    "desired_samples = (desired_samples/selected_dataset[' Label'].value_counts()['BENIGN'])"
   ]
  },
  {
   "cell_type": "code",
   "execution_count": 17,
   "id": "05a0e652",
   "metadata": {},
   "outputs": [
    {
     "name": "stdout",
     "output_type": "stream",
     "text": [
      "BENIGN       2271320\n",
      "MALICIOUS    1714764\n",
      "Name:  Label, dtype: int64\n"
     ]
    }
   ],
   "source": [
    "# generating synthetic samples\n",
    "smote = SMOTE(random_state=42, sampling_strategy=desired_samples)\n",
    "X = selected_dataset.drop(' Label', axis=1)\n",
    "y = selected_dataset[' Label']\n",
    "new_X, new_y = smote.fit_resample(X, y)\n",
    "new_X[' Label'] = new_y\n",
    "print(new_X[' Label'].value_counts())"
   ]
  },
  {
   "cell_type": "code",
   "execution_count": 18,
   "id": "673c63ad",
   "metadata": {},
   "outputs": [
    {
     "data": {
      "text/html": [
       "<div>\n",
       "<style scoped>\n",
       "    .dataframe tbody tr th:only-of-type {\n",
       "        vertical-align: middle;\n",
       "    }\n",
       "\n",
       "    .dataframe tbody tr th {\n",
       "        vertical-align: top;\n",
       "    }\n",
       "\n",
       "    .dataframe thead th {\n",
       "        text-align: right;\n",
       "    }\n",
       "</style>\n",
       "<table border=\"1\" class=\"dataframe\">\n",
       "  <thead>\n",
       "    <tr style=\"text-align: right;\">\n",
       "      <th></th>\n",
       "      <th>Destination Port</th>\n",
       "      <th>ACK Flag Count</th>\n",
       "      <th>Flow Packets/s</th>\n",
       "      <th>Fwd IAT Total</th>\n",
       "      <th>Flow Packets/s</th>\n",
       "      <th>Fwd IAT Mean</th>\n",
       "      <th>Packet Length Variance</th>\n",
       "      <th>Flow Duration</th>\n",
       "      <th>Flow IAT Max</th>\n",
       "      <th>Bwd Packet Length Std</th>\n",
       "      <th>Fwd IAT Std</th>\n",
       "      <th>Bwd Packets/s</th>\n",
       "      <th>Flow IAT Std</th>\n",
       "      <th>Init_Win_bytes_forward</th>\n",
       "      <th>Label</th>\n",
       "    </tr>\n",
       "  </thead>\n",
       "  <tbody>\n",
       "    <tr>\n",
       "      <th>0</th>\n",
       "      <td>49188.0</td>\n",
       "      <td>1.0</td>\n",
       "      <td>5.000000e+05</td>\n",
       "      <td>4.0</td>\n",
       "      <td>5.000000e+05</td>\n",
       "      <td>4.0</td>\n",
       "      <td>0.0</td>\n",
       "      <td>4.0</td>\n",
       "      <td>4.0</td>\n",
       "      <td>0.0</td>\n",
       "      <td>0.0</td>\n",
       "      <td>0.0</td>\n",
       "      <td>0.0</td>\n",
       "      <td>329.0</td>\n",
       "      <td>BENIGN</td>\n",
       "    </tr>\n",
       "    <tr>\n",
       "      <th>1</th>\n",
       "      <td>49188.0</td>\n",
       "      <td>1.0</td>\n",
       "      <td>2.000000e+06</td>\n",
       "      <td>1.0</td>\n",
       "      <td>2.000000e+06</td>\n",
       "      <td>1.0</td>\n",
       "      <td>0.0</td>\n",
       "      <td>1.0</td>\n",
       "      <td>1.0</td>\n",
       "      <td>0.0</td>\n",
       "      <td>0.0</td>\n",
       "      <td>0.0</td>\n",
       "      <td>0.0</td>\n",
       "      <td>329.0</td>\n",
       "      <td>BENIGN</td>\n",
       "    </tr>\n",
       "    <tr>\n",
       "      <th>2</th>\n",
       "      <td>49188.0</td>\n",
       "      <td>1.0</td>\n",
       "      <td>2.000000e+06</td>\n",
       "      <td>1.0</td>\n",
       "      <td>2.000000e+06</td>\n",
       "      <td>1.0</td>\n",
       "      <td>0.0</td>\n",
       "      <td>1.0</td>\n",
       "      <td>1.0</td>\n",
       "      <td>0.0</td>\n",
       "      <td>0.0</td>\n",
       "      <td>0.0</td>\n",
       "      <td>0.0</td>\n",
       "      <td>329.0</td>\n",
       "      <td>BENIGN</td>\n",
       "    </tr>\n",
       "    <tr>\n",
       "      <th>3</th>\n",
       "      <td>49188.0</td>\n",
       "      <td>1.0</td>\n",
       "      <td>2.000000e+06</td>\n",
       "      <td>1.0</td>\n",
       "      <td>2.000000e+06</td>\n",
       "      <td>1.0</td>\n",
       "      <td>0.0</td>\n",
       "      <td>1.0</td>\n",
       "      <td>1.0</td>\n",
       "      <td>0.0</td>\n",
       "      <td>0.0</td>\n",
       "      <td>0.0</td>\n",
       "      <td>0.0</td>\n",
       "      <td>329.0</td>\n",
       "      <td>BENIGN</td>\n",
       "    </tr>\n",
       "    <tr>\n",
       "      <th>4</th>\n",
       "      <td>49486.0</td>\n",
       "      <td>1.0</td>\n",
       "      <td>6.666667e+05</td>\n",
       "      <td>3.0</td>\n",
       "      <td>6.666667e+05</td>\n",
       "      <td>3.0</td>\n",
       "      <td>0.0</td>\n",
       "      <td>3.0</td>\n",
       "      <td>3.0</td>\n",
       "      <td>0.0</td>\n",
       "      <td>0.0</td>\n",
       "      <td>0.0</td>\n",
       "      <td>0.0</td>\n",
       "      <td>245.0</td>\n",
       "      <td>BENIGN</td>\n",
       "    </tr>\n",
       "  </tbody>\n",
       "</table>\n",
       "</div>"
      ],
      "text/plain": [
       "    Destination Port   ACK Flag Count   Flow Packets/s  Fwd IAT Total  \\\n",
       "0            49188.0              1.0     5.000000e+05            4.0   \n",
       "1            49188.0              1.0     2.000000e+06            1.0   \n",
       "2            49188.0              1.0     2.000000e+06            1.0   \n",
       "3            49188.0              1.0     2.000000e+06            1.0   \n",
       "4            49486.0              1.0     6.666667e+05            3.0   \n",
       "\n",
       "    Flow Packets/s   Fwd IAT Mean   Packet Length Variance   Flow Duration  \\\n",
       "0     5.000000e+05            4.0                      0.0             4.0   \n",
       "1     2.000000e+06            1.0                      0.0             1.0   \n",
       "2     2.000000e+06            1.0                      0.0             1.0   \n",
       "3     2.000000e+06            1.0                      0.0             1.0   \n",
       "4     6.666667e+05            3.0                      0.0             3.0   \n",
       "\n",
       "    Flow IAT Max   Bwd Packet Length Std   Fwd IAT Std   Bwd Packets/s  \\\n",
       "0            4.0                     0.0           0.0             0.0   \n",
       "1            1.0                     0.0           0.0             0.0   \n",
       "2            1.0                     0.0           0.0             0.0   \n",
       "3            1.0                     0.0           0.0             0.0   \n",
       "4            3.0                     0.0           0.0             0.0   \n",
       "\n",
       "    Flow IAT Std  Init_Win_bytes_forward   Label  \n",
       "0            0.0                   329.0  BENIGN  \n",
       "1            0.0                   329.0  BENIGN  \n",
       "2            0.0                   329.0  BENIGN  \n",
       "3            0.0                   329.0  BENIGN  \n",
       "4            0.0                   245.0  BENIGN  "
      ]
     },
     "execution_count": 18,
     "metadata": {},
     "output_type": "execute_result"
    }
   ],
   "source": [
    "# combining generated data with original\n",
    "dataset_with_synthetic_data = pd.concat([selected_dataset, new_X[new_X[' Label'] == 'MALICIOUS']])\n",
    "dataset_with_synthetic_data.head()"
   ]
  },
  {
   "cell_type": "code",
   "execution_count": 19,
   "id": "101f6e64",
   "metadata": {},
   "outputs": [],
   "source": [
    "X_train, X_test, y_train, y_test = train_test_split(\n",
    "    dataset_with_synthetic_data.drop(' Label', axis=1), \n",
    "    dataset_with_synthetic_data[' Label'],\n",
    "    test_size=0.2,\n",
    "    random_state=42)"
   ]
  },
  {
   "cell_type": "code",
   "execution_count": 20,
   "id": "b0adf155",
   "metadata": {},
   "outputs": [],
   "source": [
    "# random forest object\n",
    "rf_model = RandomForestClassifier()"
   ]
  },
  {
   "cell_type": "code",
   "execution_count": 21,
   "id": "cc5b887f",
   "metadata": {},
   "outputs": [
    {
     "data": {
      "text/plain": [
       "Index([' Destination Port', ' ACK Flag Count', ' Flow Packets/s',\n",
       "       'Fwd IAT Total', ' Flow Packets/s', ' Fwd IAT Mean',\n",
       "       ' Packet Length Variance', ' Flow Duration', ' Flow IAT Max',\n",
       "       ' Bwd Packet Length Std', ' Fwd IAT Std', ' Bwd Packets/s',\n",
       "       ' Flow IAT Std', 'Init_Win_bytes_forward', ' Label'],\n",
       "      dtype='object')"
      ]
     },
     "execution_count": 21,
     "metadata": {},
     "output_type": "execute_result"
    }
   ],
   "source": [
    "selected_dataset.columns"
   ]
  },
  {
   "cell_type": "code",
   "execution_count": 22,
   "id": "8f113e2a",
   "metadata": {},
   "outputs": [
    {
     "data": {
      "text/html": [
       "<style>#sk-container-id-1 {color: black;background-color: white;}#sk-container-id-1 pre{padding: 0;}#sk-container-id-1 div.sk-toggleable {background-color: white;}#sk-container-id-1 label.sk-toggleable__label {cursor: pointer;display: block;width: 100%;margin-bottom: 0;padding: 0.3em;box-sizing: border-box;text-align: center;}#sk-container-id-1 label.sk-toggleable__label-arrow:before {content: \"▸\";float: left;margin-right: 0.25em;color: #696969;}#sk-container-id-1 label.sk-toggleable__label-arrow:hover:before {color: black;}#sk-container-id-1 div.sk-estimator:hover label.sk-toggleable__label-arrow:before {color: black;}#sk-container-id-1 div.sk-toggleable__content {max-height: 0;max-width: 0;overflow: hidden;text-align: left;background-color: #f0f8ff;}#sk-container-id-1 div.sk-toggleable__content pre {margin: 0.2em;color: black;border-radius: 0.25em;background-color: #f0f8ff;}#sk-container-id-1 input.sk-toggleable__control:checked~div.sk-toggleable__content {max-height: 200px;max-width: 100%;overflow: auto;}#sk-container-id-1 input.sk-toggleable__control:checked~label.sk-toggleable__label-arrow:before {content: \"▾\";}#sk-container-id-1 div.sk-estimator input.sk-toggleable__control:checked~label.sk-toggleable__label {background-color: #d4ebff;}#sk-container-id-1 div.sk-label input.sk-toggleable__control:checked~label.sk-toggleable__label {background-color: #d4ebff;}#sk-container-id-1 input.sk-hidden--visually {border: 0;clip: rect(1px 1px 1px 1px);clip: rect(1px, 1px, 1px, 1px);height: 1px;margin: -1px;overflow: hidden;padding: 0;position: absolute;width: 1px;}#sk-container-id-1 div.sk-estimator {font-family: monospace;background-color: #f0f8ff;border: 1px dotted black;border-radius: 0.25em;box-sizing: border-box;margin-bottom: 0.5em;}#sk-container-id-1 div.sk-estimator:hover {background-color: #d4ebff;}#sk-container-id-1 div.sk-parallel-item::after {content: \"\";width: 100%;border-bottom: 1px solid gray;flex-grow: 1;}#sk-container-id-1 div.sk-label:hover label.sk-toggleable__label {background-color: #d4ebff;}#sk-container-id-1 div.sk-serial::before {content: \"\";position: absolute;border-left: 1px solid gray;box-sizing: border-box;top: 0;bottom: 0;left: 50%;z-index: 0;}#sk-container-id-1 div.sk-serial {display: flex;flex-direction: column;align-items: center;background-color: white;padding-right: 0.2em;padding-left: 0.2em;position: relative;}#sk-container-id-1 div.sk-item {position: relative;z-index: 1;}#sk-container-id-1 div.sk-parallel {display: flex;align-items: stretch;justify-content: center;background-color: white;position: relative;}#sk-container-id-1 div.sk-item::before, #sk-container-id-1 div.sk-parallel-item::before {content: \"\";position: absolute;border-left: 1px solid gray;box-sizing: border-box;top: 0;bottom: 0;left: 50%;z-index: -1;}#sk-container-id-1 div.sk-parallel-item {display: flex;flex-direction: column;z-index: 1;position: relative;background-color: white;}#sk-container-id-1 div.sk-parallel-item:first-child::after {align-self: flex-end;width: 50%;}#sk-container-id-1 div.sk-parallel-item:last-child::after {align-self: flex-start;width: 50%;}#sk-container-id-1 div.sk-parallel-item:only-child::after {width: 0;}#sk-container-id-1 div.sk-dashed-wrapped {border: 1px dashed gray;margin: 0 0.4em 0.5em 0.4em;box-sizing: border-box;padding-bottom: 0.4em;background-color: white;}#sk-container-id-1 div.sk-label label {font-family: monospace;font-weight: bold;display: inline-block;line-height: 1.2em;}#sk-container-id-1 div.sk-label-container {text-align: center;}#sk-container-id-1 div.sk-container {/* jupyter's `normalize.less` sets `[hidden] { display: none; }` but bootstrap.min.css set `[hidden] { display: none !important; }` so we also need the `!important` here to be able to override the default hidden behavior on the sphinx rendered scikit-learn.org. See: https://github.com/scikit-learn/scikit-learn/issues/21755 */display: inline-block !important;position: relative;}#sk-container-id-1 div.sk-text-repr-fallback {display: none;}</style><div id=\"sk-container-id-1\" class=\"sk-top-container\"><div class=\"sk-text-repr-fallback\"><pre>RandomForestClassifier()</pre><b>In a Jupyter environment, please rerun this cell to show the HTML representation or trust the notebook. <br />On GitHub, the HTML representation is unable to render, please try loading this page with nbviewer.org.</b></div><div class=\"sk-container\" hidden><div class=\"sk-item\"><div class=\"sk-estimator sk-toggleable\"><input class=\"sk-toggleable__control sk-hidden--visually\" id=\"sk-estimator-id-1\" type=\"checkbox\" checked><label for=\"sk-estimator-id-1\" class=\"sk-toggleable__label sk-toggleable__label-arrow\">RandomForestClassifier</label><div class=\"sk-toggleable__content\"><pre>RandomForestClassifier()</pre></div></div></div></div></div>"
      ],
      "text/plain": [
       "RandomForestClassifier()"
      ]
     },
     "execution_count": 22,
     "metadata": {},
     "output_type": "execute_result"
    }
   ],
   "source": [
    "# fitting model\n",
    "rf_model.fit(X_train, y_train)"
   ]
  },
  {
   "cell_type": "code",
   "execution_count": 23,
   "id": "e11a3b90",
   "metadata": {},
   "outputs": [],
   "source": [
    "# model evaluation\n",
    "y_pred = rf_model.predict(X_test)"
   ]
  },
  {
   "cell_type": "code",
   "execution_count": 24,
   "id": "ba7ef0b4",
   "metadata": {},
   "outputs": [
    {
     "data": {
      "text/html": [
       "<div>\n",
       "<style scoped>\n",
       "    .dataframe tbody tr th:only-of-type {\n",
       "        vertical-align: middle;\n",
       "    }\n",
       "\n",
       "    .dataframe tbody tr th {\n",
       "        vertical-align: top;\n",
       "    }\n",
       "\n",
       "    .dataframe thead th {\n",
       "        text-align: right;\n",
       "    }\n",
       "</style>\n",
       "<table border=\"1\" class=\"dataframe\">\n",
       "  <thead>\n",
       "    <tr style=\"text-align: right;\">\n",
       "      <th></th>\n",
       "      <th>0</th>\n",
       "      <th>1</th>\n",
       "    </tr>\n",
       "  </thead>\n",
       "  <tbody>\n",
       "    <tr>\n",
       "      <th>0</th>\n",
       "      <td>453841</td>\n",
       "      <td>545</td>\n",
       "    </tr>\n",
       "    <tr>\n",
       "      <th>1</th>\n",
       "      <td>269</td>\n",
       "      <td>453873</td>\n",
       "    </tr>\n",
       "  </tbody>\n",
       "</table>\n",
       "</div>"
      ],
      "text/plain": [
       "        0       1\n",
       "0  453841     545\n",
       "1     269  453873"
      ]
     },
     "execution_count": 24,
     "metadata": {},
     "output_type": "execute_result"
    }
   ],
   "source": [
    "pd.DataFrame(confusion_matrix(y_test, y_pred))"
   ]
  },
  {
   "cell_type": "code",
   "execution_count": 25,
   "id": "6bdc1504",
   "metadata": {},
   "outputs": [
    {
     "name": "stdout",
     "output_type": "stream",
     "text": [
      "              precision    recall  f1-score   support\n",
      "\n",
      "      BENIGN       1.00      1.00      1.00    454386\n",
      "   MALICIOUS       1.00      1.00      1.00    454142\n",
      "\n",
      "    accuracy                           1.00    908528\n",
      "   macro avg       1.00      1.00      1.00    908528\n",
      "weighted avg       1.00      1.00      1.00    908528\n",
      "\n"
     ]
    }
   ],
   "source": [
    "print(classification_report(y_test, y_pred))"
   ]
  },
  {
   "cell_type": "code",
   "execution_count": 26,
   "id": "5d79f25a",
   "metadata": {},
   "outputs": [
    {
     "data": {
      "text/plain": [
       "array(['BENIGN', 'MALICIOUS'], dtype=object)"
      ]
     },
     "execution_count": 26,
     "metadata": {},
     "output_type": "execute_result"
    }
   ],
   "source": [
    "rf_model.classes_"
   ]
  },
  {
   "cell_type": "code",
   "execution_count": null,
   "id": "32fce9f2",
   "metadata": {},
   "outputs": [],
   "source": []
  }
 ],
 "metadata": {
  "kernelspec": {
   "display_name": "Python 3 (ipykernel)",
   "language": "python",
   "name": "python3"
  },
  "language_info": {
   "codemirror_mode": {
    "name": "ipython",
    "version": 3
   },
   "file_extension": ".py",
   "mimetype": "text/x-python",
   "name": "python",
   "nbconvert_exporter": "python",
   "pygments_lexer": "ipython3",
   "version": "3.11.1"
  }
 },
 "nbformat": 4,
 "nbformat_minor": 5
}
