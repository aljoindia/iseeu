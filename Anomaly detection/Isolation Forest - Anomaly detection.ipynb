{
 "cells": [
  {
   "cell_type": "markdown",
   "id": "2847ab9e",
   "metadata": {},
   "source": [
    "# Isolation Forest - Anomaly detection"
   ]
  },
  {
   "cell_type": "code",
   "execution_count": 23,
   "id": "4a235e3c",
   "metadata": {},
   "outputs": [],
   "source": [
    "import pandas as pd\n",
    "from sklearn.decomposition import PCA\n",
    "from sklearn.preprocessing import StandardScaler\n",
    "import seaborn as sns\n",
    "import numpy as np\n",
    "import matplotlib.pyplot as plt\n",
    "from sklearn.ensemble import IsolationForest"
   ]
  },
  {
   "cell_type": "code",
   "execution_count": 2,
   "id": "8f0e08a6",
   "metadata": {},
   "outputs": [
    {
     "name": "stderr",
     "output_type": "stream",
     "text": [
      "C:\\Users\\Admin\\AppData\\Local\\Temp\\ipykernel_9124\\1319772336.py:2: DtypeWarning: Columns (0,1,3,6,84) have mixed types. Specify dtype option on import or set low_memory=False.\n",
      "  ids_dataset = pd.read_csv(\"IDS_merged_dataset.csv\")\n"
     ]
    },
    {
     "data": {
      "text/html": [
       "<div>\n",
       "<style scoped>\n",
       "    .dataframe tbody tr th:only-of-type {\n",
       "        vertical-align: middle;\n",
       "    }\n",
       "\n",
       "    .dataframe tbody tr th {\n",
       "        vertical-align: top;\n",
       "    }\n",
       "\n",
       "    .dataframe thead th {\n",
       "        text-align: right;\n",
       "    }\n",
       "</style>\n",
       "<table border=\"1\" class=\"dataframe\">\n",
       "  <thead>\n",
       "    <tr style=\"text-align: right;\">\n",
       "      <th></th>\n",
       "      <th>Flow ID</th>\n",
       "      <th>Source IP</th>\n",
       "      <th>Source Port</th>\n",
       "      <th>Destination IP</th>\n",
       "      <th>Destination Port</th>\n",
       "      <th>Protocol</th>\n",
       "      <th>Timestamp</th>\n",
       "      <th>Flow Duration</th>\n",
       "      <th>Total Fwd Packets</th>\n",
       "      <th>Total Backward Packets</th>\n",
       "      <th>...</th>\n",
       "      <th>min_seg_size_forward</th>\n",
       "      <th>Active Mean</th>\n",
       "      <th>Active Std</th>\n",
       "      <th>Active Max</th>\n",
       "      <th>Active Min</th>\n",
       "      <th>Idle Mean</th>\n",
       "      <th>Idle Std</th>\n",
       "      <th>Idle Max</th>\n",
       "      <th>Idle Min</th>\n",
       "      <th>Label</th>\n",
       "    </tr>\n",
       "  </thead>\n",
       "  <tbody>\n",
       "    <tr>\n",
       "      <th>0</th>\n",
       "      <td>192.168.10.5-8.254.250.126-49188-80-6</td>\n",
       "      <td>8.254.250.126</td>\n",
       "      <td>80.0</td>\n",
       "      <td>192.168.10.5</td>\n",
       "      <td>49188.0</td>\n",
       "      <td>6.0</td>\n",
       "      <td>03/07/2017 08:55:58</td>\n",
       "      <td>4.0</td>\n",
       "      <td>2.0</td>\n",
       "      <td>0.0</td>\n",
       "      <td>...</td>\n",
       "      <td>20.0</td>\n",
       "      <td>0.0</td>\n",
       "      <td>0.0</td>\n",
       "      <td>0.0</td>\n",
       "      <td>0.0</td>\n",
       "      <td>0.0</td>\n",
       "      <td>0.0</td>\n",
       "      <td>0.0</td>\n",
       "      <td>0.0</td>\n",
       "      <td>BENIGN</td>\n",
       "    </tr>\n",
       "    <tr>\n",
       "      <th>1</th>\n",
       "      <td>192.168.10.5-8.254.250.126-49188-80-6</td>\n",
       "      <td>8.254.250.126</td>\n",
       "      <td>80.0</td>\n",
       "      <td>192.168.10.5</td>\n",
       "      <td>49188.0</td>\n",
       "      <td>6.0</td>\n",
       "      <td>03/07/2017 08:55:58</td>\n",
       "      <td>1.0</td>\n",
       "      <td>2.0</td>\n",
       "      <td>0.0</td>\n",
       "      <td>...</td>\n",
       "      <td>20.0</td>\n",
       "      <td>0.0</td>\n",
       "      <td>0.0</td>\n",
       "      <td>0.0</td>\n",
       "      <td>0.0</td>\n",
       "      <td>0.0</td>\n",
       "      <td>0.0</td>\n",
       "      <td>0.0</td>\n",
       "      <td>0.0</td>\n",
       "      <td>BENIGN</td>\n",
       "    </tr>\n",
       "    <tr>\n",
       "      <th>2</th>\n",
       "      <td>192.168.10.5-8.254.250.126-49188-80-6</td>\n",
       "      <td>8.254.250.126</td>\n",
       "      <td>80.0</td>\n",
       "      <td>192.168.10.5</td>\n",
       "      <td>49188.0</td>\n",
       "      <td>6.0</td>\n",
       "      <td>03/07/2017 08:55:58</td>\n",
       "      <td>1.0</td>\n",
       "      <td>2.0</td>\n",
       "      <td>0.0</td>\n",
       "      <td>...</td>\n",
       "      <td>20.0</td>\n",
       "      <td>0.0</td>\n",
       "      <td>0.0</td>\n",
       "      <td>0.0</td>\n",
       "      <td>0.0</td>\n",
       "      <td>0.0</td>\n",
       "      <td>0.0</td>\n",
       "      <td>0.0</td>\n",
       "      <td>0.0</td>\n",
       "      <td>BENIGN</td>\n",
       "    </tr>\n",
       "    <tr>\n",
       "      <th>3</th>\n",
       "      <td>192.168.10.5-8.254.250.126-49188-80-6</td>\n",
       "      <td>8.254.250.126</td>\n",
       "      <td>80.0</td>\n",
       "      <td>192.168.10.5</td>\n",
       "      <td>49188.0</td>\n",
       "      <td>6.0</td>\n",
       "      <td>03/07/2017 08:55:58</td>\n",
       "      <td>1.0</td>\n",
       "      <td>2.0</td>\n",
       "      <td>0.0</td>\n",
       "      <td>...</td>\n",
       "      <td>20.0</td>\n",
       "      <td>0.0</td>\n",
       "      <td>0.0</td>\n",
       "      <td>0.0</td>\n",
       "      <td>0.0</td>\n",
       "      <td>0.0</td>\n",
       "      <td>0.0</td>\n",
       "      <td>0.0</td>\n",
       "      <td>0.0</td>\n",
       "      <td>BENIGN</td>\n",
       "    </tr>\n",
       "    <tr>\n",
       "      <th>4</th>\n",
       "      <td>192.168.10.14-8.253.185.121-49486-80-6</td>\n",
       "      <td>8.253.185.121</td>\n",
       "      <td>80.0</td>\n",
       "      <td>192.168.10.14</td>\n",
       "      <td>49486.0</td>\n",
       "      <td>6.0</td>\n",
       "      <td>03/07/2017 08:56:22</td>\n",
       "      <td>3.0</td>\n",
       "      <td>2.0</td>\n",
       "      <td>0.0</td>\n",
       "      <td>...</td>\n",
       "      <td>20.0</td>\n",
       "      <td>0.0</td>\n",
       "      <td>0.0</td>\n",
       "      <td>0.0</td>\n",
       "      <td>0.0</td>\n",
       "      <td>0.0</td>\n",
       "      <td>0.0</td>\n",
       "      <td>0.0</td>\n",
       "      <td>0.0</td>\n",
       "      <td>BENIGN</td>\n",
       "    </tr>\n",
       "  </tbody>\n",
       "</table>\n",
       "<p>5 rows × 85 columns</p>\n",
       "</div>"
      ],
      "text/plain": [
       "                                  Flow ID      Source IP   Source Port  \\\n",
       "0   192.168.10.5-8.254.250.126-49188-80-6  8.254.250.126          80.0   \n",
       "1   192.168.10.5-8.254.250.126-49188-80-6  8.254.250.126          80.0   \n",
       "2   192.168.10.5-8.254.250.126-49188-80-6  8.254.250.126          80.0   \n",
       "3   192.168.10.5-8.254.250.126-49188-80-6  8.254.250.126          80.0   \n",
       "4  192.168.10.14-8.253.185.121-49486-80-6  8.253.185.121          80.0   \n",
       "\n",
       "   Destination IP   Destination Port   Protocol            Timestamp  \\\n",
       "0    192.168.10.5            49188.0        6.0  03/07/2017 08:55:58   \n",
       "1    192.168.10.5            49188.0        6.0  03/07/2017 08:55:58   \n",
       "2    192.168.10.5            49188.0        6.0  03/07/2017 08:55:58   \n",
       "3    192.168.10.5            49188.0        6.0  03/07/2017 08:55:58   \n",
       "4   192.168.10.14            49486.0        6.0  03/07/2017 08:56:22   \n",
       "\n",
       "    Flow Duration   Total Fwd Packets   Total Backward Packets  ...  \\\n",
       "0             4.0                 2.0                      0.0  ...   \n",
       "1             1.0                 2.0                      0.0  ...   \n",
       "2             1.0                 2.0                      0.0  ...   \n",
       "3             1.0                 2.0                      0.0  ...   \n",
       "4             3.0                 2.0                      0.0  ...   \n",
       "\n",
       "    min_seg_size_forward  Active Mean   Active Std   Active Max   Active Min  \\\n",
       "0                   20.0          0.0          0.0          0.0          0.0   \n",
       "1                   20.0          0.0          0.0          0.0          0.0   \n",
       "2                   20.0          0.0          0.0          0.0          0.0   \n",
       "3                   20.0          0.0          0.0          0.0          0.0   \n",
       "4                   20.0          0.0          0.0          0.0          0.0   \n",
       "\n",
       "   Idle Mean   Idle Std   Idle Max   Idle Min   Label  \n",
       "0        0.0        0.0        0.0        0.0  BENIGN  \n",
       "1        0.0        0.0        0.0        0.0  BENIGN  \n",
       "2        0.0        0.0        0.0        0.0  BENIGN  \n",
       "3        0.0        0.0        0.0        0.0  BENIGN  \n",
       "4        0.0        0.0        0.0        0.0  BENIGN  \n",
       "\n",
       "[5 rows x 85 columns]"
      ]
     },
     "execution_count": 2,
     "metadata": {},
     "output_type": "execute_result"
    }
   ],
   "source": [
    "# importing dataset\n",
    "ids_dataset = pd.read_csv(\"IDS_merged_dataset.csv\")\n",
    "ids_dataset.head()"
   ]
  },
  {
   "cell_type": "code",
   "execution_count": 3,
   "id": "bf2008e8",
   "metadata": {},
   "outputs": [
    {
     "data": {
      "text/plain": [
       "array(['BENIGN', 'FTP-Patator', 'SSH-Patator', 'DoS slowloris',\n",
       "       'DoS Slowhttptest', 'DoS Hulk', 'DoS GoldenEye', 'Heartbleed',\n",
       "       'Infiltration', 'Web Attack – Brute Force', 'Web Attack – XSS',\n",
       "       'Web Attack – Sql Injection', nan, 'Bot', 'DDoS', 'PortScan'],\n",
       "      dtype=object)"
      ]
     },
     "execution_count": 3,
     "metadata": {},
     "output_type": "execute_result"
    }
   ],
   "source": [
    "# Classes\n",
    "ids_dataset[' Label'].unique()"
   ]
  },
  {
   "cell_type": "code",
   "execution_count": 4,
   "id": "2af211eb",
   "metadata": {},
   "outputs": [],
   "source": [
    "# filtering dataset;- selecting only BEGNIN records\n",
    "# ids_dataset = ids_dataset[ids_dataset[' Label'] == 'BENIGN']\n",
    "# ids_dataset.head()"
   ]
  },
  {
   "cell_type": "code",
   "execution_count": 5,
   "id": "e14936a5",
   "metadata": {},
   "outputs": [
    {
     "data": {
      "text/plain": [
       "(3119345, 85)"
      ]
     },
     "execution_count": 5,
     "metadata": {},
     "output_type": "execute_result"
    }
   ],
   "source": [
    "ids_dataset.shape"
   ]
  },
  {
   "cell_type": "code",
   "execution_count": 6,
   "id": "9e9dea1a",
   "metadata": {},
   "outputs": [],
   "source": [
    "# dataset information\n",
    "# ids_dataset.info()"
   ]
  },
  {
   "cell_type": "code",
   "execution_count": 7,
   "id": "a9a2a1a2",
   "metadata": {},
   "outputs": [],
   "source": [
    "# Dataset columns\n",
    "# ids_dataset.columns"
   ]
  },
  {
   "cell_type": "code",
   "execution_count": 8,
   "id": "25090dd7",
   "metadata": {},
   "outputs": [],
   "source": [
    "# # dropping unwanted columns\n",
    "# columns_to_be_dropped = [\n",
    "#     'Flow ID', \n",
    "#     ' Source IP', \n",
    "#     ' Source Port',\n",
    "#     ' Destination IP', \n",
    "#     ' Destination Port', \n",
    "#     ' Protocol',\n",
    "#     ' Timestamp',\n",
    "#     ' Label'\n",
    "# ]\n",
    "\n",
    "# pre_pca_ids_dataset = ids_dataset.drop(columns_to_be_dropped, axis=1)\n",
    "# pre_pca_ids_dataset.head()"
   ]
  },
  {
   "cell_type": "code",
   "execution_count": 13,
   "id": "346ceb4f",
   "metadata": {},
   "outputs": [
    {
     "data": {
      "text/html": [
       "<div>\n",
       "<style scoped>\n",
       "    .dataframe tbody tr th:only-of-type {\n",
       "        vertical-align: middle;\n",
       "    }\n",
       "\n",
       "    .dataframe tbody tr th {\n",
       "        vertical-align: top;\n",
       "    }\n",
       "\n",
       "    .dataframe thead th {\n",
       "        text-align: right;\n",
       "    }\n",
       "</style>\n",
       "<table border=\"1\" class=\"dataframe\">\n",
       "  <thead>\n",
       "    <tr style=\"text-align: right;\">\n",
       "      <th></th>\n",
       "      <th>Bwd Packet Length Std</th>\n",
       "      <th>Packet Length Variance</th>\n",
       "      <th>Init_Win_bytes_forward</th>\n",
       "      <th>Bwd Packet Length Max</th>\n",
       "      <th>Average Packet Size</th>\n",
       "      <th>Packet Length Std</th>\n",
       "      <th>Packet Length Mean</th>\n",
       "      <th>Bwd Packet Length Mean</th>\n",
       "    </tr>\n",
       "  </thead>\n",
       "  <tbody>\n",
       "    <tr>\n",
       "      <th>0</th>\n",
       "      <td>0.0</td>\n",
       "      <td>0.0</td>\n",
       "      <td>329.0</td>\n",
       "      <td>0.0</td>\n",
       "      <td>9.0</td>\n",
       "      <td>0.0</td>\n",
       "      <td>6.0</td>\n",
       "      <td>0.0</td>\n",
       "    </tr>\n",
       "    <tr>\n",
       "      <th>1</th>\n",
       "      <td>0.0</td>\n",
       "      <td>0.0</td>\n",
       "      <td>329.0</td>\n",
       "      <td>0.0</td>\n",
       "      <td>9.0</td>\n",
       "      <td>0.0</td>\n",
       "      <td>6.0</td>\n",
       "      <td>0.0</td>\n",
       "    </tr>\n",
       "    <tr>\n",
       "      <th>2</th>\n",
       "      <td>0.0</td>\n",
       "      <td>0.0</td>\n",
       "      <td>329.0</td>\n",
       "      <td>0.0</td>\n",
       "      <td>9.0</td>\n",
       "      <td>0.0</td>\n",
       "      <td>6.0</td>\n",
       "      <td>0.0</td>\n",
       "    </tr>\n",
       "    <tr>\n",
       "      <th>3</th>\n",
       "      <td>0.0</td>\n",
       "      <td>0.0</td>\n",
       "      <td>329.0</td>\n",
       "      <td>0.0</td>\n",
       "      <td>9.0</td>\n",
       "      <td>0.0</td>\n",
       "      <td>6.0</td>\n",
       "      <td>0.0</td>\n",
       "    </tr>\n",
       "    <tr>\n",
       "      <th>4</th>\n",
       "      <td>0.0</td>\n",
       "      <td>0.0</td>\n",
       "      <td>245.0</td>\n",
       "      <td>0.0</td>\n",
       "      <td>9.0</td>\n",
       "      <td>0.0</td>\n",
       "      <td>6.0</td>\n",
       "      <td>0.0</td>\n",
       "    </tr>\n",
       "  </tbody>\n",
       "</table>\n",
       "</div>"
      ],
      "text/plain": [
       "    Bwd Packet Length Std   Packet Length Variance  Init_Win_bytes_forward  \\\n",
       "0                     0.0                      0.0                   329.0   \n",
       "1                     0.0                      0.0                   329.0   \n",
       "2                     0.0                      0.0                   329.0   \n",
       "3                     0.0                      0.0                   329.0   \n",
       "4                     0.0                      0.0                   245.0   \n",
       "\n",
       "   Bwd Packet Length Max   Average Packet Size   Packet Length Std  \\\n",
       "0                    0.0                   9.0                 0.0   \n",
       "1                    0.0                   9.0                 0.0   \n",
       "2                    0.0                   9.0                 0.0   \n",
       "3                    0.0                   9.0                 0.0   \n",
       "4                    0.0                   9.0                 0.0   \n",
       "\n",
       "    Packet Length Mean   Bwd Packet Length Mean  \n",
       "0                  6.0                      0.0  \n",
       "1                  6.0                      0.0  \n",
       "2                  6.0                      0.0  \n",
       "3                  6.0                      0.0  \n",
       "4                  6.0                      0.0  "
      ]
     },
     "execution_count": 13,
     "metadata": {},
     "output_type": "execute_result"
    }
   ],
   "source": [
    "selected_features = [' Bwd Packet Length Std', ' Packet Length Variance',\n",
    "       'Init_Win_bytes_forward', 'Bwd Packet Length Max',\n",
    "       ' Average Packet Size', ' Packet Length Std',\n",
    "       ' Packet Length Mean', ' Bwd Packet Length Mean']\n",
    "selected_dataset = ids_dataset[selected_features].copy()\n",
    "selected_dataset.head()"
   ]
  },
  {
   "cell_type": "code",
   "execution_count": 14,
   "id": "4b1f80df",
   "metadata": {},
   "outputs": [
    {
     "data": {
      "text/html": [
       "<div>\n",
       "<style scoped>\n",
       "    .dataframe tbody tr th:only-of-type {\n",
       "        vertical-align: middle;\n",
       "    }\n",
       "\n",
       "    .dataframe tbody tr th {\n",
       "        vertical-align: top;\n",
       "    }\n",
       "\n",
       "    .dataframe thead th {\n",
       "        text-align: right;\n",
       "    }\n",
       "</style>\n",
       "<table border=\"1\" class=\"dataframe\">\n",
       "  <thead>\n",
       "    <tr style=\"text-align: right;\">\n",
       "      <th></th>\n",
       "      <th>Bwd Packet Length Std</th>\n",
       "      <th>Packet Length Variance</th>\n",
       "      <th>Init_Win_bytes_forward</th>\n",
       "      <th>Bwd Packet Length Max</th>\n",
       "      <th>Average Packet Size</th>\n",
       "      <th>Packet Length Std</th>\n",
       "      <th>Packet Length Mean</th>\n",
       "      <th>Bwd Packet Length Mean</th>\n",
       "    </tr>\n",
       "  </thead>\n",
       "  <tbody>\n",
       "    <tr>\n",
       "      <th>count</th>\n",
       "      <td>2.830743e+06</td>\n",
       "      <td>2.830743e+06</td>\n",
       "      <td>2.830743e+06</td>\n",
       "      <td>2.830743e+06</td>\n",
       "      <td>2.830743e+06</td>\n",
       "      <td>2.830743e+06</td>\n",
       "      <td>2.830743e+06</td>\n",
       "      <td>2.830743e+06</td>\n",
       "    </tr>\n",
       "    <tr>\n",
       "      <th>mean</th>\n",
       "      <td>3.353257e+02</td>\n",
       "      <td>4.861548e+05</td>\n",
       "      <td>6.989837e+03</td>\n",
       "      <td>8.708495e+02</td>\n",
       "      <td>1.919837e+02</td>\n",
       "      <td>2.949756e+02</td>\n",
       "      <td>1.719444e+02</td>\n",
       "      <td>3.059493e+02</td>\n",
       "    </tr>\n",
       "    <tr>\n",
       "      <th>std</th>\n",
       "      <td>8.396932e+02</td>\n",
       "      <td>1.647490e+06</td>\n",
       "      <td>1.433873e+04</td>\n",
       "      <td>1.946367e+03</td>\n",
       "      <td>3.318603e+02</td>\n",
       "      <td>6.318001e+02</td>\n",
       "      <td>3.054915e+02</td>\n",
       "      <td>6.052568e+02</td>\n",
       "    </tr>\n",
       "    <tr>\n",
       "      <th>min</th>\n",
       "      <td>0.000000e+00</td>\n",
       "      <td>0.000000e+00</td>\n",
       "      <td>-1.000000e+00</td>\n",
       "      <td>0.000000e+00</td>\n",
       "      <td>0.000000e+00</td>\n",
       "      <td>0.000000e+00</td>\n",
       "      <td>0.000000e+00</td>\n",
       "      <td>0.000000e+00</td>\n",
       "    </tr>\n",
       "    <tr>\n",
       "      <th>25%</th>\n",
       "      <td>0.000000e+00</td>\n",
       "      <td>0.000000e+00</td>\n",
       "      <td>-1.000000e+00</td>\n",
       "      <td>0.000000e+00</td>\n",
       "      <td>7.500000e+00</td>\n",
       "      <td>0.000000e+00</td>\n",
       "      <td>6.000000e+00</td>\n",
       "      <td>0.000000e+00</td>\n",
       "    </tr>\n",
       "    <tr>\n",
       "      <th>50%</th>\n",
       "      <td>0.000000e+00</td>\n",
       "      <td>6.750000e+02</td>\n",
       "      <td>2.510000e+02</td>\n",
       "      <td>7.900000e+01</td>\n",
       "      <td>7.225000e+01</td>\n",
       "      <td>2.598076e+01</td>\n",
       "      <td>5.720000e+01</td>\n",
       "      <td>7.200000e+01</td>\n",
       "    </tr>\n",
       "    <tr>\n",
       "      <th>75%</th>\n",
       "      <td>7.794054e+01</td>\n",
       "      <td>3.038884e+04</td>\n",
       "      <td>8.192000e+03</td>\n",
       "      <td>2.800000e+02</td>\n",
       "      <td>1.492639e+02</td>\n",
       "      <td>1.743239e+02</td>\n",
       "      <td>1.198000e+02</td>\n",
       "      <td>1.810000e+02</td>\n",
       "    </tr>\n",
       "    <tr>\n",
       "      <th>max</th>\n",
       "      <td>8.194660e+03</td>\n",
       "      <td>2.240000e+07</td>\n",
       "      <td>6.553500e+04</td>\n",
       "      <td>1.953000e+04</td>\n",
       "      <td>3.893333e+03</td>\n",
       "      <td>4.731522e+03</td>\n",
       "      <td>3.337143e+03</td>\n",
       "      <td>5.800500e+03</td>\n",
       "    </tr>\n",
       "  </tbody>\n",
       "</table>\n",
       "</div>"
      ],
      "text/plain": [
       "        Bwd Packet Length Std   Packet Length Variance  \\\n",
       "count            2.830743e+06             2.830743e+06   \n",
       "mean             3.353257e+02             4.861548e+05   \n",
       "std              8.396932e+02             1.647490e+06   \n",
       "min              0.000000e+00             0.000000e+00   \n",
       "25%              0.000000e+00             0.000000e+00   \n",
       "50%              0.000000e+00             6.750000e+02   \n",
       "75%              7.794054e+01             3.038884e+04   \n",
       "max              8.194660e+03             2.240000e+07   \n",
       "\n",
       "       Init_Win_bytes_forward  Bwd Packet Length Max   Average Packet Size  \\\n",
       "count            2.830743e+06           2.830743e+06          2.830743e+06   \n",
       "mean             6.989837e+03           8.708495e+02          1.919837e+02   \n",
       "std              1.433873e+04           1.946367e+03          3.318603e+02   \n",
       "min             -1.000000e+00           0.000000e+00          0.000000e+00   \n",
       "25%             -1.000000e+00           0.000000e+00          7.500000e+00   \n",
       "50%              2.510000e+02           7.900000e+01          7.225000e+01   \n",
       "75%              8.192000e+03           2.800000e+02          1.492639e+02   \n",
       "max              6.553500e+04           1.953000e+04          3.893333e+03   \n",
       "\n",
       "        Packet Length Std   Packet Length Mean   Bwd Packet Length Mean  \n",
       "count        2.830743e+06         2.830743e+06             2.830743e+06  \n",
       "mean         2.949756e+02         1.719444e+02             3.059493e+02  \n",
       "std          6.318001e+02         3.054915e+02             6.052568e+02  \n",
       "min          0.000000e+00         0.000000e+00             0.000000e+00  \n",
       "25%          0.000000e+00         6.000000e+00             0.000000e+00  \n",
       "50%          2.598076e+01         5.720000e+01             7.200000e+01  \n",
       "75%          1.743239e+02         1.198000e+02             1.810000e+02  \n",
       "max          4.731522e+03         3.337143e+03             5.800500e+03  "
      ]
     },
     "execution_count": 14,
     "metadata": {},
     "output_type": "execute_result"
    }
   ],
   "source": [
    "# 5 summary of dataset\n",
    "selected_dataset.describe()"
   ]
  },
  {
   "cell_type": "code",
   "execution_count": 15,
   "id": "32c893c4",
   "metadata": {},
   "outputs": [
    {
     "data": {
      "text/plain": [
       "(3119345, 8)"
      ]
     },
     "execution_count": 15,
     "metadata": {},
     "output_type": "execute_result"
    }
   ],
   "source": [
    "selected_dataset.shape"
   ]
  },
  {
   "cell_type": "code",
   "execution_count": 16,
   "id": "46759766",
   "metadata": {},
   "outputs": [],
   "source": [
    "# Dropping missing values\n",
    "selected_dataset.dropna(inplace=True)"
   ]
  },
  {
   "cell_type": "code",
   "execution_count": 17,
   "id": "5e365ad1",
   "metadata": {},
   "outputs": [
    {
     "data": {
      "text/plain": [
       "(2830743, 8)"
      ]
     },
     "execution_count": 17,
     "metadata": {},
     "output_type": "execute_result"
    }
   ],
   "source": [
    "selected_dataset.shape"
   ]
  },
  {
   "cell_type": "code",
   "execution_count": 18,
   "id": "ce0353b6",
   "metadata": {},
   "outputs": [],
   "source": [
    "# Converting infinity to nan\n",
    "selected_dataset.replace([np.inf, -np.inf], np.nan, inplace=True)"
   ]
  },
  {
   "cell_type": "code",
   "execution_count": 19,
   "id": "9fb26bdd",
   "metadata": {},
   "outputs": [],
   "source": [
    "# Dropping na\n",
    "selected_dataset.dropna(inplace=True)"
   ]
  },
  {
   "cell_type": "code",
   "execution_count": 20,
   "id": "1052eff8",
   "metadata": {},
   "outputs": [
    {
     "data": {
      "text/plain": [
       "(2830743, 8)"
      ]
     },
     "execution_count": 20,
     "metadata": {},
     "output_type": "execute_result"
    }
   ],
   "source": [
    "selected_dataset.shape"
   ]
  },
  {
   "cell_type": "code",
   "execution_count": 21,
   "id": "096a3bc3",
   "metadata": {},
   "outputs": [],
   "source": [
    "# Normalising dataset using standard scaler\n",
    "scaler = StandardScaler()\n",
    "scaled_dataset = scaler.fit_transform(selected_dataset)"
   ]
  },
  {
   "cell_type": "code",
   "execution_count": 24,
   "id": "ac01c034",
   "metadata": {},
   "outputs": [],
   "source": [
    "# create isolation forest object\n",
    "isolation_forest = IsolationForest(contamination=0.1, random_state=42)"
   ]
  },
  {
   "cell_type": "code",
   "execution_count": 25,
   "id": "2ced141e",
   "metadata": {},
   "outputs": [
    {
     "data": {
      "text/html": [
       "<style>#sk-container-id-1 {color: black;background-color: white;}#sk-container-id-1 pre{padding: 0;}#sk-container-id-1 div.sk-toggleable {background-color: white;}#sk-container-id-1 label.sk-toggleable__label {cursor: pointer;display: block;width: 100%;margin-bottom: 0;padding: 0.3em;box-sizing: border-box;text-align: center;}#sk-container-id-1 label.sk-toggleable__label-arrow:before {content: \"▸\";float: left;margin-right: 0.25em;color: #696969;}#sk-container-id-1 label.sk-toggleable__label-arrow:hover:before {color: black;}#sk-container-id-1 div.sk-estimator:hover label.sk-toggleable__label-arrow:before {color: black;}#sk-container-id-1 div.sk-toggleable__content {max-height: 0;max-width: 0;overflow: hidden;text-align: left;background-color: #f0f8ff;}#sk-container-id-1 div.sk-toggleable__content pre {margin: 0.2em;color: black;border-radius: 0.25em;background-color: #f0f8ff;}#sk-container-id-1 input.sk-toggleable__control:checked~div.sk-toggleable__content {max-height: 200px;max-width: 100%;overflow: auto;}#sk-container-id-1 input.sk-toggleable__control:checked~label.sk-toggleable__label-arrow:before {content: \"▾\";}#sk-container-id-1 div.sk-estimator input.sk-toggleable__control:checked~label.sk-toggleable__label {background-color: #d4ebff;}#sk-container-id-1 div.sk-label input.sk-toggleable__control:checked~label.sk-toggleable__label {background-color: #d4ebff;}#sk-container-id-1 input.sk-hidden--visually {border: 0;clip: rect(1px 1px 1px 1px);clip: rect(1px, 1px, 1px, 1px);height: 1px;margin: -1px;overflow: hidden;padding: 0;position: absolute;width: 1px;}#sk-container-id-1 div.sk-estimator {font-family: monospace;background-color: #f0f8ff;border: 1px dotted black;border-radius: 0.25em;box-sizing: border-box;margin-bottom: 0.5em;}#sk-container-id-1 div.sk-estimator:hover {background-color: #d4ebff;}#sk-container-id-1 div.sk-parallel-item::after {content: \"\";width: 100%;border-bottom: 1px solid gray;flex-grow: 1;}#sk-container-id-1 div.sk-label:hover label.sk-toggleable__label {background-color: #d4ebff;}#sk-container-id-1 div.sk-serial::before {content: \"\";position: absolute;border-left: 1px solid gray;box-sizing: border-box;top: 0;bottom: 0;left: 50%;z-index: 0;}#sk-container-id-1 div.sk-serial {display: flex;flex-direction: column;align-items: center;background-color: white;padding-right: 0.2em;padding-left: 0.2em;position: relative;}#sk-container-id-1 div.sk-item {position: relative;z-index: 1;}#sk-container-id-1 div.sk-parallel {display: flex;align-items: stretch;justify-content: center;background-color: white;position: relative;}#sk-container-id-1 div.sk-item::before, #sk-container-id-1 div.sk-parallel-item::before {content: \"\";position: absolute;border-left: 1px solid gray;box-sizing: border-box;top: 0;bottom: 0;left: 50%;z-index: -1;}#sk-container-id-1 div.sk-parallel-item {display: flex;flex-direction: column;z-index: 1;position: relative;background-color: white;}#sk-container-id-1 div.sk-parallel-item:first-child::after {align-self: flex-end;width: 50%;}#sk-container-id-1 div.sk-parallel-item:last-child::after {align-self: flex-start;width: 50%;}#sk-container-id-1 div.sk-parallel-item:only-child::after {width: 0;}#sk-container-id-1 div.sk-dashed-wrapped {border: 1px dashed gray;margin: 0 0.4em 0.5em 0.4em;box-sizing: border-box;padding-bottom: 0.4em;background-color: white;}#sk-container-id-1 div.sk-label label {font-family: monospace;font-weight: bold;display: inline-block;line-height: 1.2em;}#sk-container-id-1 div.sk-label-container {text-align: center;}#sk-container-id-1 div.sk-container {/* jupyter's `normalize.less` sets `[hidden] { display: none; }` but bootstrap.min.css set `[hidden] { display: none !important; }` so we also need the `!important` here to be able to override the default hidden behavior on the sphinx rendered scikit-learn.org. See: https://github.com/scikit-learn/scikit-learn/issues/21755 */display: inline-block !important;position: relative;}#sk-container-id-1 div.sk-text-repr-fallback {display: none;}</style><div id=\"sk-container-id-1\" class=\"sk-top-container\"><div class=\"sk-text-repr-fallback\"><pre>IsolationForest(contamination=0.1, random_state=42)</pre><b>In a Jupyter environment, please rerun this cell to show the HTML representation or trust the notebook. <br />On GitHub, the HTML representation is unable to render, please try loading this page with nbviewer.org.</b></div><div class=\"sk-container\" hidden><div class=\"sk-item\"><div class=\"sk-estimator sk-toggleable\"><input class=\"sk-toggleable__control sk-hidden--visually\" id=\"sk-estimator-id-1\" type=\"checkbox\" checked><label for=\"sk-estimator-id-1\" class=\"sk-toggleable__label sk-toggleable__label-arrow\">IsolationForest</label><div class=\"sk-toggleable__content\"><pre>IsolationForest(contamination=0.1, random_state=42)</pre></div></div></div></div></div>"
      ],
      "text/plain": [
       "IsolationForest(contamination=0.1, random_state=42)"
      ]
     },
     "execution_count": 25,
     "metadata": {},
     "output_type": "execute_result"
    }
   ],
   "source": [
    "# train model\n",
    "isolation_forest.fit(scaled_dataset)"
   ]
  },
  {
   "cell_type": "code",
   "execution_count": 26,
   "id": "72e3bb16",
   "metadata": {},
   "outputs": [],
   "source": [
    "# getting the anomaly score of each record\n",
    "selected_dataset['anomaly_scores'] = isolation_forest.decision_function(scaled_dataset) "
   ]
  },
  {
   "cell_type": "code",
   "execution_count": 34,
   "id": "48298ab4",
   "metadata": {},
   "outputs": [],
   "source": [
    "# Anomaly or not\n",
    "selected_dataset['anomaly'] = isolation_forest.predict(scaled_dataset)"
   ]
  },
  {
   "cell_type": "code",
   "execution_count": 35,
   "id": "e7cc0bc6",
   "metadata": {},
   "outputs": [
    {
     "data": {
      "text/html": [
       "<div>\n",
       "<style scoped>\n",
       "    .dataframe tbody tr th:only-of-type {\n",
       "        vertical-align: middle;\n",
       "    }\n",
       "\n",
       "    .dataframe tbody tr th {\n",
       "        vertical-align: top;\n",
       "    }\n",
       "\n",
       "    .dataframe thead th {\n",
       "        text-align: right;\n",
       "    }\n",
       "</style>\n",
       "<table border=\"1\" class=\"dataframe\">\n",
       "  <thead>\n",
       "    <tr style=\"text-align: right;\">\n",
       "      <th></th>\n",
       "      <th>Bwd Packet Length Std</th>\n",
       "      <th>Packet Length Variance</th>\n",
       "      <th>Init_Win_bytes_forward</th>\n",
       "      <th>Bwd Packet Length Max</th>\n",
       "      <th>Average Packet Size</th>\n",
       "      <th>Packet Length Std</th>\n",
       "      <th>Packet Length Mean</th>\n",
       "      <th>Bwd Packet Length Mean</th>\n",
       "      <th>anomaly_scores</th>\n",
       "      <th>anomaly</th>\n",
       "    </tr>\n",
       "  </thead>\n",
       "  <tbody>\n",
       "    <tr>\n",
       "      <th>0</th>\n",
       "      <td>0.000000</td>\n",
       "      <td>0.000</td>\n",
       "      <td>329.0</td>\n",
       "      <td>0.0</td>\n",
       "      <td>9.000000</td>\n",
       "      <td>0.000000</td>\n",
       "      <td>6.000000</td>\n",
       "      <td>0.000000</td>\n",
       "      <td>0.229290</td>\n",
       "      <td>1</td>\n",
       "    </tr>\n",
       "    <tr>\n",
       "      <th>1</th>\n",
       "      <td>0.000000</td>\n",
       "      <td>0.000</td>\n",
       "      <td>329.0</td>\n",
       "      <td>0.0</td>\n",
       "      <td>9.000000</td>\n",
       "      <td>0.000000</td>\n",
       "      <td>6.000000</td>\n",
       "      <td>0.000000</td>\n",
       "      <td>0.229290</td>\n",
       "      <td>1</td>\n",
       "    </tr>\n",
       "    <tr>\n",
       "      <th>2</th>\n",
       "      <td>0.000000</td>\n",
       "      <td>0.000</td>\n",
       "      <td>329.0</td>\n",
       "      <td>0.0</td>\n",
       "      <td>9.000000</td>\n",
       "      <td>0.000000</td>\n",
       "      <td>6.000000</td>\n",
       "      <td>0.000000</td>\n",
       "      <td>0.229290</td>\n",
       "      <td>1</td>\n",
       "    </tr>\n",
       "    <tr>\n",
       "      <th>3</th>\n",
       "      <td>0.000000</td>\n",
       "      <td>0.000</td>\n",
       "      <td>329.0</td>\n",
       "      <td>0.0</td>\n",
       "      <td>9.000000</td>\n",
       "      <td>0.000000</td>\n",
       "      <td>6.000000</td>\n",
       "      <td>0.000000</td>\n",
       "      <td>0.229290</td>\n",
       "      <td>1</td>\n",
       "    </tr>\n",
       "    <tr>\n",
       "      <th>4</th>\n",
       "      <td>0.000000</td>\n",
       "      <td>0.000</td>\n",
       "      <td>245.0</td>\n",
       "      <td>0.0</td>\n",
       "      <td>9.000000</td>\n",
       "      <td>0.000000</td>\n",
       "      <td>6.000000</td>\n",
       "      <td>0.000000</td>\n",
       "      <td>0.228769</td>\n",
       "      <td>1</td>\n",
       "    </tr>\n",
       "    <tr>\n",
       "      <th>...</th>\n",
       "      <td>...</td>\n",
       "      <td>...</td>\n",
       "      <td>...</td>\n",
       "      <td>...</td>\n",
       "      <td>...</td>\n",
       "      <td>...</td>\n",
       "      <td>...</td>\n",
       "      <td>...</td>\n",
       "      <td>...</td>\n",
       "      <td>...</td>\n",
       "    </tr>\n",
       "    <tr>\n",
       "      <th>3119340</th>\n",
       "      <td>972.796621</td>\n",
       "      <td>1346971.618</td>\n",
       "      <td>29200.0</td>\n",
       "      <td>4344.0</td>\n",
       "      <td>1011.056604</td>\n",
       "      <td>1160.591064</td>\n",
       "      <td>1001.607477</td>\n",
       "      <td>1856.859649</td>\n",
       "      <td>-0.044192</td>\n",
       "      <td>-1</td>\n",
       "    </tr>\n",
       "    <tr>\n",
       "      <th>3119341</th>\n",
       "      <td>848.453540</td>\n",
       "      <td>1153006.173</td>\n",
       "      <td>29200.0</td>\n",
       "      <td>2896.0</td>\n",
       "      <td>978.870370</td>\n",
       "      <td>1073.781250</td>\n",
       "      <td>969.889908</td>\n",
       "      <td>1769.372881</td>\n",
       "      <td>-0.044039</td>\n",
       "      <td>-1</td>\n",
       "    </tr>\n",
       "    <tr>\n",
       "      <th>3119342</th>\n",
       "      <td>920.298603</td>\n",
       "      <td>1549711.641</td>\n",
       "      <td>29200.0</td>\n",
       "      <td>4344.0</td>\n",
       "      <td>1256.242775</td>\n",
       "      <td>1244.874147</td>\n",
       "      <td>1249.022989</td>\n",
       "      <td>2096.145631</td>\n",
       "      <td>-0.072020</td>\n",
       "      <td>-1</td>\n",
       "    </tr>\n",
       "    <tr>\n",
       "      <th>3119343</th>\n",
       "      <td>799.911092</td>\n",
       "      <td>1119596.884</td>\n",
       "      <td>29200.0</td>\n",
       "      <td>2896.0</td>\n",
       "      <td>995.678571</td>\n",
       "      <td>1058.110053</td>\n",
       "      <td>986.867257</td>\n",
       "      <td>1777.177419</td>\n",
       "      <td>-0.045346</td>\n",
       "      <td>-1</td>\n",
       "    </tr>\n",
       "    <tr>\n",
       "      <th>3119344</th>\n",
       "      <td>849.040557</td>\n",
       "      <td>1143430.312</td>\n",
       "      <td>29200.0</td>\n",
       "      <td>2896.0</td>\n",
       "      <td>984.155340</td>\n",
       "      <td>1069.313009</td>\n",
       "      <td>974.692308</td>\n",
       "      <td>1755.245614</td>\n",
       "      <td>-0.044877</td>\n",
       "      <td>-1</td>\n",
       "    </tr>\n",
       "  </tbody>\n",
       "</table>\n",
       "<p>2830743 rows × 10 columns</p>\n",
       "</div>"
      ],
      "text/plain": [
       "          Bwd Packet Length Std   Packet Length Variance  \\\n",
       "0                      0.000000                    0.000   \n",
       "1                      0.000000                    0.000   \n",
       "2                      0.000000                    0.000   \n",
       "3                      0.000000                    0.000   \n",
       "4                      0.000000                    0.000   \n",
       "...                         ...                      ...   \n",
       "3119340              972.796621              1346971.618   \n",
       "3119341              848.453540              1153006.173   \n",
       "3119342              920.298603              1549711.641   \n",
       "3119343              799.911092              1119596.884   \n",
       "3119344              849.040557              1143430.312   \n",
       "\n",
       "         Init_Win_bytes_forward  Bwd Packet Length Max   Average Packet Size  \\\n",
       "0                         329.0                    0.0              9.000000   \n",
       "1                         329.0                    0.0              9.000000   \n",
       "2                         329.0                    0.0              9.000000   \n",
       "3                         329.0                    0.0              9.000000   \n",
       "4                         245.0                    0.0              9.000000   \n",
       "...                         ...                    ...                   ...   \n",
       "3119340                 29200.0                 4344.0           1011.056604   \n",
       "3119341                 29200.0                 2896.0            978.870370   \n",
       "3119342                 29200.0                 4344.0           1256.242775   \n",
       "3119343                 29200.0                 2896.0            995.678571   \n",
       "3119344                 29200.0                 2896.0            984.155340   \n",
       "\n",
       "          Packet Length Std   Packet Length Mean   Bwd Packet Length Mean  \\\n",
       "0                  0.000000             6.000000                 0.000000   \n",
       "1                  0.000000             6.000000                 0.000000   \n",
       "2                  0.000000             6.000000                 0.000000   \n",
       "3                  0.000000             6.000000                 0.000000   \n",
       "4                  0.000000             6.000000                 0.000000   \n",
       "...                     ...                  ...                      ...   \n",
       "3119340         1160.591064          1001.607477              1856.859649   \n",
       "3119341         1073.781250           969.889908              1769.372881   \n",
       "3119342         1244.874147          1249.022989              2096.145631   \n",
       "3119343         1058.110053           986.867257              1777.177419   \n",
       "3119344         1069.313009           974.692308              1755.245614   \n",
       "\n",
       "         anomaly_scores  anomaly  \n",
       "0              0.229290        1  \n",
       "1              0.229290        1  \n",
       "2              0.229290        1  \n",
       "3              0.229290        1  \n",
       "4              0.228769        1  \n",
       "...                 ...      ...  \n",
       "3119340       -0.044192       -1  \n",
       "3119341       -0.044039       -1  \n",
       "3119342       -0.072020       -1  \n",
       "3119343       -0.045346       -1  \n",
       "3119344       -0.044877       -1  \n",
       "\n",
       "[2830743 rows x 10 columns]"
      ]
     },
     "execution_count": 35,
     "metadata": {},
     "output_type": "execute_result"
    }
   ],
   "source": [
    "selected_dataset"
   ]
  },
  {
   "cell_type": "code",
   "execution_count": 37,
   "id": "927640d0",
   "metadata": {},
   "outputs": [
    {
     "data": {
      "text/plain": [
       " 1    2549060\n",
       "-1     281683\n",
       "Name: anomaly, dtype: int64"
      ]
     },
     "execution_count": 37,
     "metadata": {},
     "output_type": "execute_result"
    }
   ],
   "source": [
    "selected_dataset['anomaly'].value_counts()"
   ]
  },
  {
   "cell_type": "code",
   "execution_count": 44,
   "id": "14a8cb37",
   "metadata": {},
   "outputs": [],
   "source": [
    "selected_dataset['Label'] = ids_dataset[' Label'].loc[selected_dataset.index]"
   ]
  },
  {
   "cell_type": "code",
   "execution_count": 45,
   "id": "e90ee561",
   "metadata": {},
   "outputs": [
    {
     "data": {
      "text/html": [
       "<div>\n",
       "<style scoped>\n",
       "    .dataframe tbody tr th:only-of-type {\n",
       "        vertical-align: middle;\n",
       "    }\n",
       "\n",
       "    .dataframe tbody tr th {\n",
       "        vertical-align: top;\n",
       "    }\n",
       "\n",
       "    .dataframe thead th {\n",
       "        text-align: right;\n",
       "    }\n",
       "</style>\n",
       "<table border=\"1\" class=\"dataframe\">\n",
       "  <thead>\n",
       "    <tr style=\"text-align: right;\">\n",
       "      <th></th>\n",
       "      <th>Bwd Packet Length Std</th>\n",
       "      <th>Packet Length Variance</th>\n",
       "      <th>Init_Win_bytes_forward</th>\n",
       "      <th>Bwd Packet Length Max</th>\n",
       "      <th>Average Packet Size</th>\n",
       "      <th>Packet Length Std</th>\n",
       "      <th>Packet Length Mean</th>\n",
       "      <th>Bwd Packet Length Mean</th>\n",
       "      <th>anomaly_scores</th>\n",
       "      <th>anomaly</th>\n",
       "      <th>Label</th>\n",
       "    </tr>\n",
       "  </thead>\n",
       "  <tbody>\n",
       "    <tr>\n",
       "      <th>0</th>\n",
       "      <td>0.000000</td>\n",
       "      <td>0.000</td>\n",
       "      <td>329.0</td>\n",
       "      <td>0.0</td>\n",
       "      <td>9.000000</td>\n",
       "      <td>0.000000</td>\n",
       "      <td>6.000000</td>\n",
       "      <td>0.000000</td>\n",
       "      <td>0.229290</td>\n",
       "      <td>1</td>\n",
       "      <td>BENIGN</td>\n",
       "    </tr>\n",
       "    <tr>\n",
       "      <th>1</th>\n",
       "      <td>0.000000</td>\n",
       "      <td>0.000</td>\n",
       "      <td>329.0</td>\n",
       "      <td>0.0</td>\n",
       "      <td>9.000000</td>\n",
       "      <td>0.000000</td>\n",
       "      <td>6.000000</td>\n",
       "      <td>0.000000</td>\n",
       "      <td>0.229290</td>\n",
       "      <td>1</td>\n",
       "      <td>BENIGN</td>\n",
       "    </tr>\n",
       "    <tr>\n",
       "      <th>2</th>\n",
       "      <td>0.000000</td>\n",
       "      <td>0.000</td>\n",
       "      <td>329.0</td>\n",
       "      <td>0.0</td>\n",
       "      <td>9.000000</td>\n",
       "      <td>0.000000</td>\n",
       "      <td>6.000000</td>\n",
       "      <td>0.000000</td>\n",
       "      <td>0.229290</td>\n",
       "      <td>1</td>\n",
       "      <td>BENIGN</td>\n",
       "    </tr>\n",
       "    <tr>\n",
       "      <th>3</th>\n",
       "      <td>0.000000</td>\n",
       "      <td>0.000</td>\n",
       "      <td>329.0</td>\n",
       "      <td>0.0</td>\n",
       "      <td>9.000000</td>\n",
       "      <td>0.000000</td>\n",
       "      <td>6.000000</td>\n",
       "      <td>0.000000</td>\n",
       "      <td>0.229290</td>\n",
       "      <td>1</td>\n",
       "      <td>BENIGN</td>\n",
       "    </tr>\n",
       "    <tr>\n",
       "      <th>4</th>\n",
       "      <td>0.000000</td>\n",
       "      <td>0.000</td>\n",
       "      <td>245.0</td>\n",
       "      <td>0.0</td>\n",
       "      <td>9.000000</td>\n",
       "      <td>0.000000</td>\n",
       "      <td>6.000000</td>\n",
       "      <td>0.000000</td>\n",
       "      <td>0.228769</td>\n",
       "      <td>1</td>\n",
       "      <td>BENIGN</td>\n",
       "    </tr>\n",
       "    <tr>\n",
       "      <th>...</th>\n",
       "      <td>...</td>\n",
       "      <td>...</td>\n",
       "      <td>...</td>\n",
       "      <td>...</td>\n",
       "      <td>...</td>\n",
       "      <td>...</td>\n",
       "      <td>...</td>\n",
       "      <td>...</td>\n",
       "      <td>...</td>\n",
       "      <td>...</td>\n",
       "      <td>...</td>\n",
       "    </tr>\n",
       "    <tr>\n",
       "      <th>3119340</th>\n",
       "      <td>972.796621</td>\n",
       "      <td>1346971.618</td>\n",
       "      <td>29200.0</td>\n",
       "      <td>4344.0</td>\n",
       "      <td>1011.056604</td>\n",
       "      <td>1160.591064</td>\n",
       "      <td>1001.607477</td>\n",
       "      <td>1856.859649</td>\n",
       "      <td>-0.044192</td>\n",
       "      <td>-1</td>\n",
       "      <td>BENIGN</td>\n",
       "    </tr>\n",
       "    <tr>\n",
       "      <th>3119341</th>\n",
       "      <td>848.453540</td>\n",
       "      <td>1153006.173</td>\n",
       "      <td>29200.0</td>\n",
       "      <td>2896.0</td>\n",
       "      <td>978.870370</td>\n",
       "      <td>1073.781250</td>\n",
       "      <td>969.889908</td>\n",
       "      <td>1769.372881</td>\n",
       "      <td>-0.044039</td>\n",
       "      <td>-1</td>\n",
       "      <td>BENIGN</td>\n",
       "    </tr>\n",
       "    <tr>\n",
       "      <th>3119342</th>\n",
       "      <td>920.298603</td>\n",
       "      <td>1549711.641</td>\n",
       "      <td>29200.0</td>\n",
       "      <td>4344.0</td>\n",
       "      <td>1256.242775</td>\n",
       "      <td>1244.874147</td>\n",
       "      <td>1249.022989</td>\n",
       "      <td>2096.145631</td>\n",
       "      <td>-0.072020</td>\n",
       "      <td>-1</td>\n",
       "      <td>BENIGN</td>\n",
       "    </tr>\n",
       "    <tr>\n",
       "      <th>3119343</th>\n",
       "      <td>799.911092</td>\n",
       "      <td>1119596.884</td>\n",
       "      <td>29200.0</td>\n",
       "      <td>2896.0</td>\n",
       "      <td>995.678571</td>\n",
       "      <td>1058.110053</td>\n",
       "      <td>986.867257</td>\n",
       "      <td>1777.177419</td>\n",
       "      <td>-0.045346</td>\n",
       "      <td>-1</td>\n",
       "      <td>BENIGN</td>\n",
       "    </tr>\n",
       "    <tr>\n",
       "      <th>3119344</th>\n",
       "      <td>849.040557</td>\n",
       "      <td>1143430.312</td>\n",
       "      <td>29200.0</td>\n",
       "      <td>2896.0</td>\n",
       "      <td>984.155340</td>\n",
       "      <td>1069.313009</td>\n",
       "      <td>974.692308</td>\n",
       "      <td>1755.245614</td>\n",
       "      <td>-0.044877</td>\n",
       "      <td>-1</td>\n",
       "      <td>BENIGN</td>\n",
       "    </tr>\n",
       "  </tbody>\n",
       "</table>\n",
       "<p>2830743 rows × 11 columns</p>\n",
       "</div>"
      ],
      "text/plain": [
       "          Bwd Packet Length Std   Packet Length Variance  \\\n",
       "0                      0.000000                    0.000   \n",
       "1                      0.000000                    0.000   \n",
       "2                      0.000000                    0.000   \n",
       "3                      0.000000                    0.000   \n",
       "4                      0.000000                    0.000   \n",
       "...                         ...                      ...   \n",
       "3119340              972.796621              1346971.618   \n",
       "3119341              848.453540              1153006.173   \n",
       "3119342              920.298603              1549711.641   \n",
       "3119343              799.911092              1119596.884   \n",
       "3119344              849.040557              1143430.312   \n",
       "\n",
       "         Init_Win_bytes_forward  Bwd Packet Length Max   Average Packet Size  \\\n",
       "0                         329.0                    0.0              9.000000   \n",
       "1                         329.0                    0.0              9.000000   \n",
       "2                         329.0                    0.0              9.000000   \n",
       "3                         329.0                    0.0              9.000000   \n",
       "4                         245.0                    0.0              9.000000   \n",
       "...                         ...                    ...                   ...   \n",
       "3119340                 29200.0                 4344.0           1011.056604   \n",
       "3119341                 29200.0                 2896.0            978.870370   \n",
       "3119342                 29200.0                 4344.0           1256.242775   \n",
       "3119343                 29200.0                 2896.0            995.678571   \n",
       "3119344                 29200.0                 2896.0            984.155340   \n",
       "\n",
       "          Packet Length Std   Packet Length Mean   Bwd Packet Length Mean  \\\n",
       "0                  0.000000             6.000000                 0.000000   \n",
       "1                  0.000000             6.000000                 0.000000   \n",
       "2                  0.000000             6.000000                 0.000000   \n",
       "3                  0.000000             6.000000                 0.000000   \n",
       "4                  0.000000             6.000000                 0.000000   \n",
       "...                     ...                  ...                      ...   \n",
       "3119340         1160.591064          1001.607477              1856.859649   \n",
       "3119341         1073.781250           969.889908              1769.372881   \n",
       "3119342         1244.874147          1249.022989              2096.145631   \n",
       "3119343         1058.110053           986.867257              1777.177419   \n",
       "3119344         1069.313009           974.692308              1755.245614   \n",
       "\n",
       "         anomaly_scores  anomaly   Label  \n",
       "0              0.229290        1  BENIGN  \n",
       "1              0.229290        1  BENIGN  \n",
       "2              0.229290        1  BENIGN  \n",
       "3              0.229290        1  BENIGN  \n",
       "4              0.228769        1  BENIGN  \n",
       "...                 ...      ...     ...  \n",
       "3119340       -0.044192       -1  BENIGN  \n",
       "3119341       -0.044039       -1  BENIGN  \n",
       "3119342       -0.072020       -1  BENIGN  \n",
       "3119343       -0.045346       -1  BENIGN  \n",
       "3119344       -0.044877       -1  BENIGN  \n",
       "\n",
       "[2830743 rows x 11 columns]"
      ]
     },
     "execution_count": 45,
     "metadata": {},
     "output_type": "execute_result"
    }
   ],
   "source": [
    "selected_dataset"
   ]
  },
  {
   "cell_type": "code",
   "execution_count": 51,
   "id": "de9fc8fa",
   "metadata": {},
   "outputs": [
    {
     "data": {
      "text/plain": [
       " 1    2129553\n",
       "-1     143544\n",
       "Name: anomaly, dtype: int64"
      ]
     },
     "execution_count": 51,
     "metadata": {},
     "output_type": "execute_result"
    }
   ],
   "source": [
    "selected_dataset[ selected_dataset['Label'] == \"BENIGN\"]['anomaly'].value_counts()"
   ]
  },
  {
   "cell_type": "code",
   "execution_count": 53,
   "id": "44fd3211",
   "metadata": {},
   "outputs": [
    {
     "data": {
      "text/plain": [
       "6.314908690654204"
      ]
     },
     "execution_count": 53,
     "metadata": {},
     "output_type": "execute_result"
    }
   ],
   "source": [
    "(143544 / (2129553 + 143544)) * 100"
   ]
  },
  {
   "cell_type": "code",
   "execution_count": 54,
   "id": "ab405e40",
   "metadata": {},
   "outputs": [
    {
     "data": {
      "text/plain": [
       " 1    419507\n",
       "-1    138139\n",
       "Name: anomaly, dtype: int64"
      ]
     },
     "execution_count": 54,
     "metadata": {},
     "output_type": "execute_result"
    }
   ],
   "source": [
    "selected_dataset[ selected_dataset['Label'] != \"BENIGN\"]['anomaly'].value_counts()"
   ]
  },
  {
   "cell_type": "code",
   "execution_count": 55,
   "id": "b5285c8e",
   "metadata": {},
   "outputs": [
    {
     "data": {
      "text/plain": [
       "24.77180863845522"
      ]
     },
     "execution_count": 55,
     "metadata": {},
     "output_type": "execute_result"
    }
   ],
   "source": [
    "(138139 / (419507 + 138139)) * 100"
   ]
  },
  {
   "cell_type": "code",
   "execution_count": 58,
   "id": "2641e156",
   "metadata": {},
   "outputs": [
    {
     "data": {
      "text/plain": [
       "(557646, 11)"
      ]
     },
     "execution_count": 58,
     "metadata": {},
     "output_type": "execute_result"
    }
   ],
   "source": [
    "selected_dataset[ selected_dataset['Label'] != \"BENIGN\"].shape"
   ]
  },
  {
   "cell_type": "code",
   "execution_count": 60,
   "id": "605175b0",
   "metadata": {},
   "outputs": [
    {
     "data": {
      "text/plain": [
       "143205.111"
      ]
     },
     "execution_count": 60,
     "metadata": {},
     "output_type": "execute_result"
    }
   ],
   "source": [
    "2273097 * (6.3/100)"
   ]
  },
  {
   "cell_type": "code",
   "execution_count": 61,
   "id": "acc4e95d",
   "metadata": {},
   "outputs": [
    {
     "data": {
      "text/plain": [
       "138296.208"
      ]
     },
     "execution_count": 61,
     "metadata": {},
     "output_type": "execute_result"
    }
   ],
   "source": [
    "557646 * (24.8/100)"
   ]
  },
  {
   "cell_type": "code",
   "execution_count": 66,
   "id": "52665ae8",
   "metadata": {},
   "outputs": [
    {
     "name": "stdout",
     "output_type": "stream",
     "text": [
      "Number of anomalous values 281683\n",
      "Number of non anomalous values  2549060\n",
      "Total Number of Values: 2830743\n"
     ]
    },
    {
     "data": {
      "text/plain": [
       "Text(0.5, 1.0, 'Inliers\\n 2549060 points')"
      ]
     },
     "execution_count": 66,
     "metadata": {},
     "output_type": "execute_result"
    },
    {
     "data": {
      "image/png": "[encoded data removed]",
      "text/plain": [
       "<Figure size 800x400 with 2 Axes>"
      ]
     },
     "metadata": {},
     "output_type": "display_data"
    }
   ],
   "source": [
    "\n",
    "# Print out key statistics\n",
    "print(f\"Number of anomalous values {len(selected_dataset[selected_dataset['anomaly']==-1])}\")\n",
    "print(f\"Number of non anomalous values  {len(selected_dataset[selected_dataset['anomaly']== 1])}\")\n",
    "print(f'Total Number of Values: {len(selected_dataset)}')\n",
    "\n",
    "# Create the chart using seaborn\n",
    "g = sns.FacetGrid(selected_dataset, col='anomaly', height=4, hue='anomaly', hue_order=[1,-1])\n",
    "g.map(sns.scatterplot, ' Bwd Packet Length Std', ' Packet Length Variance')\n",
    "g.fig.suptitle(f'Outlier Method: IF', y=1.10, fontweight='bold')\n",
    "axes = g.axes.flatten()\n",
    "axes[0].set_title(f\"Outliers\\n{len(selected_dataset[selected_dataset['anomaly']== -1])} points\")\n",
    "axes[1].set_title(f\"Inliers\\n {len(selected_dataset[selected_dataset['anomaly']==  1])} points\")"
   ]
  },
  {
   "cell_type": "code",
   "execution_count": null,
   "id": "428a9aa2",
   "metadata": {},
   "outputs": [],
   "source": []
  }
 ],
 "metadata": {
  "kernelspec": {
   "display_name": "Python 3 (ipykernel)",
   "language": "python",
   "name": "python3"
  },
  "language_info": {
   "codemirror_mode": {
    "name": "ipython",
    "version": 3
   },
   "file_extension": ".py",
   "mimetype": "text/x-python",
   "name": "python",
   "nbconvert_exporter": "python",
   "pygments_lexer": "ipython3",
   "version": "3.11.1"
  }
 },
 "nbformat": 4,
 "nbformat_minor": 5
}
